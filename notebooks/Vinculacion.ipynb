{
 "cells": [
  {
   "cell_type": "code",
   "execution_count": null,
   "metadata": {},
   "outputs": [],
   "source": [
    "import warnings\n",
    "warnings.filterwarnings('ignore')\n",
    "\n",
    "import os.path\n",
    "import pandas as pd\n",
    "import numpy as np\n",
    "import matplotlib.pyplot as plt\n",
    "\n",
    "import logging\n",
    "import sys\n",
    "\n",
    "logging.basicConfig(\n",
    "    format='%(asctime)s [%(levelname)s] %(name)s - %(message)s'\n",
    "    , level=logging.INFO\n",
    "    , datefmt = '%H:%M:%S'\n",
    "    , stream = sys.stdout\n",
    ")\n",
    "\n",
    "\n",
    "from IPython.display import display,Markdown\n",
    "\n",
    "from geoba import fillforms\n",
    "import tosogoJupyter.rtkconf as pyconf\n",
    "from gluecode import handlers as tosogo\n",
    "from gluecode import printers as report\n",
    "from gluecode.mdtemplates import *"
   ]
  },
  {
   "cell_type": "markdown",
   "metadata": {},
   "source": [
    "# Memoria de Relevamiento\n",
    "\n",
    "Se midieron con equipos GPS de simple frecuencia dos puntos que se denominaron\n",
    "PFD1 y PFD2, y se vincularon a la estación permanente IGM1. En este apartado\n",
    "se describe el procesamiento GPS, incluyendo la salida del programa de procesamiento. "
   ]
  },
  {
   "cell_type": "code",
   "execution_count": null,
   "metadata": {
    "tags": [
     "parameters"
    ]
   },
   "outputs": [],
   "source": [
    "#CeldaDeParametros\n",
    "FILEFLD = 'proyecto'\n",
    "OUTPUTFLD = 'output'\n",
    "FORMFLD = 'forms'\n",
    "TMPFLD = 'proyfiles'\n",
    "BASE = 'igm10240.20o'\n",
    "PIE = 'PFD10240.20o'\n",
    "AZIMUT = 'PFD20240.20o'"
   ]
  },
  {
   "cell_type": "code",
   "execution_count": null,
   "metadata": {},
   "outputs": [],
   "source": [
    "!mkdir -p {TMPFLD}"
   ]
  },
  {
   "cell_type": "code",
   "execution_count": null,
   "metadata": {},
   "outputs": [],
   "source": [
    "display(Markdown(mdfiles.format(BASE=BASE,PIE=PIE,AZIMUT=AZIMUT)))"
   ]
  },
  {
   "cell_type": "markdown",
   "metadata": {},
   "source": [
    "## Archivos de Sesiones\n",
    "\n",
    "Cada vector se separó en dos sesiones de medición, utilizando la herramienta RinEdit, de GPSTk"
   ]
  },
  {
   "cell_type": "code",
   "execution_count": null,
   "metadata": {},
   "outputs": [],
   "source": [
    "datos = {}\n",
    "\n",
    "for i,k in zip([BASE, PIE, AZIMUT],['base','pie','azimut']):\n",
    "    archivo = os.path.join(FILEFLD,i)\n",
    "    f = tosogo.DataFile(archivo)\n",
    "    datos[k] = f\n",
    "\n",
    "REFNAV = datos['base'].path[:-1]+'n'\n",
    "\n",
    "for k in ['pie','azimut','base']:\n",
    "    datos[k].store_pdops(nav=REFNAV)\n",
    "\n",
    "valid_eps_total = {'{}'.format(k):datos[k].pdop.size for k in ['pie','azimut']}\n",
    "\n",
    "# TRIM PDOP > 2.5\n",
    "for k in ['pie','azimut','base']:\n",
    "    #datos[k].store_pdops(nav=REFNAV)\n",
    "    datos[k] = datos[k]._pdop_filter()\n",
    "    datos[k].store_pdops(nav=REFNAV)\n",
    "    \n",
    "valid_eps_filt = {'{}'.format(k):datos[k].pdop.size for k in ['pie','azimut']}"
   ]
  },
  {
   "cell_type": "code",
   "execution_count": null,
   "metadata": {},
   "outputs": [],
   "source": [
    "display(Markdown(mdpdop.format(base=PIE[:4],az=AZIMUT[:4],\n",
    "                               nbase=valid_eps_total['pie']-valid_eps_filt['pie'],\n",
    "                               naz=valid_eps_total['azimut']-valid_eps_filt['azimut'],\n",
    "                               nbasehs=valid_eps_filt['pie']/3600.,\n",
    "                               nazhs=valid_eps_filt['azimut']/3600.)))"
   ]
  },
  {
   "cell_type": "code",
   "execution_count": null,
   "metadata": {},
   "outputs": [],
   "source": [
    "SPLITPATH = os.path.join(TMPFLD,'splits')\n",
    "\n",
    "!mkdir -p {SPLITPATH}\n",
    "\n",
    "for k,v in datos.items():\n",
    "    if k == 'base':\n",
    "        continue\n",
    "    else:\n",
    "        v.mid_split(folder=SPLITPATH)\n",
    "        #v.store_pdops(nav=REFNAV)"
   ]
  },
  {
   "cell_type": "code",
   "execution_count": null,
   "metadata": {},
   "outputs": [],
   "source": [
    "display(Markdown(mdsessions.format(nbase=BASE[:4].upper(),npie=PIE[:4].upper(),naz=AZIMUT[:4].upper(),\n",
    "                                  fpie=os.path.basename(datos['base'].path),\n",
    "                                  fbase=os.path.basename(datos['pie'].path),\n",
    "                                  faz=os.path.basename(datos['azimut'].path),\n",
    "                                  fpie1=os.path.basename(datos['pie'].path).replace('0.','1.'),\n",
    "                                  faz1=os.path.basename(datos['azimut'].path).replace('0.','1.'),\n",
    "                                  fpie2=os.path.basename(datos['pie'].path).replace('0.','2.'),\n",
    "                                  faz2=os.path.basename(datos['azimut'].path).replace('0.','2.'),\n",
    "                                  )))"
   ]
  },
  {
   "cell_type": "code",
   "execution_count": null,
   "metadata": {},
   "outputs": [],
   "source": [
    "for k,v in datos.items():\n",
    "    v.store_pdops(nav=REFNAV)"
   ]
  },
  {
   "cell_type": "code",
   "execution_count": null,
   "metadata": {},
   "outputs": [],
   "source": [
    "display(Markdown(mdpdopgraphs))"
   ]
  },
  {
   "cell_type": "code",
   "execution_count": null,
   "metadata": {},
   "outputs": [],
   "source": [
    "for doprover,dopbase,titulo in zip(\n",
    "    [datos['pie'].p1pdop,datos['pie'].p2pdop,datos['azimut'].p1pdop,datos['azimut'].p2pdop],\n",
    "    [datos['base'].pdop,datos['base'].pdop,datos['pie'].pdop,datos['pie'].pdop],\n",
    "    ['Vector Largo Sesion A','Vector Largo Sesion B',\n",
    "     'Vector Corto Sesion A','Vector Corto Sesion B']):\n",
    "    \n",
    "    fig,ax = plt.subplots(figsize=(10,3))\n",
    "    doprover.plot(style='x',ax=ax,label='PDOP Rover')\n",
    "    dopbasere = dopbase.reindex(doprover.index)\n",
    "    dopbasere.plot(style='.',ax=ax,label='PDOP Base')\n",
    "    ax.set_title(titulo + ' PDOP máximo: {}'.format(max([doprover.max(),dopbasere.max()])))\n",
    "    ax.legend()\n",
    "    ax.set_xlabel(\"Tiempo\")\n",
    "    ax.set_ylabel(\"PDOP\")\n",
    "    plt.show()"
   ]
  },
  {
   "cell_type": "markdown",
   "metadata": {},
   "source": [
    "# Con esta información se generaron los Anexos 4 y 4.1"
   ]
  },
  {
   "cell_type": "code",
   "execution_count": null,
   "metadata": {},
   "outputs": [],
   "source": [
    "filesinfo = fillforms.get_rx_data(datos['base'].path,\n",
    "                                  datos['pie'].p1path,\n",
    "                                  datos['pie'].p2path )\n",
    "fillforms.make_template(filesinfo,template_file=f'{FORMFLD}/Anexo4.1.fdf',\n",
    "                        out=f'{OUTPUTFLD}/Anexo4.1-{BASE[:4]}-{PIE[:4]}.fdf')"
   ]
  },
  {
   "cell_type": "code",
   "execution_count": null,
   "metadata": {},
   "outputs": [],
   "source": [
    "kwargs = {\n",
    "    'pdf_file':f'{FORMFLD}/Anexo4.1.pdf',\n",
    "    'fdf_file':f'{OUTPUTFLD}/Anexo4.1-{BASE[:4]}-{PIE[:4]}.fdf',\n",
    "    'out':f'{OUTPUTFLD}/Anexo4.1-{BASE[:4]}-{PIE[:4]}.pdf'\n",
    "}\n",
    "\n",
    "fillforms.apply_template(**kwargs)"
   ]
  },
  {
   "cell_type": "code",
   "execution_count": null,
   "metadata": {},
   "outputs": [],
   "source": [
    "filesinfo = fillforms.get_rx_data(datos['pie'].path,\n",
    "                                  datos['azimut'].p1path,\n",
    "                                  datos['azimut'].p2path )\n",
    "fillforms.make_template(filesinfo,template_file=f'{FORMFLD}/Anexo4.1.fdf',\n",
    "                        out=f'{OUTPUTFLD}/Anexo4.1-{PIE[:4]}-{AZIMUT[:4]}.fdf')"
   ]
  },
  {
   "cell_type": "code",
   "execution_count": null,
   "metadata": {},
   "outputs": [],
   "source": [
    "kwargs = {\n",
    "    'pdf_file':f'{FORMFLD}/Anexo4.1.pdf',\n",
    "    'fdf_file':f'{OUTPUTFLD}/Anexo4.1-{PIE[:4]}-{AZIMUT[:4]}.fdf',\n",
    "    'out':f'{OUTPUTFLD}/Anexo4.1-{PIE[:4]}-{AZIMUT[:4]}.pdf'\n",
    "}\n",
    "\n",
    "fillforms.apply_template(**kwargs)"
   ]
  },
  {
   "cell_type": "markdown",
   "metadata": {},
   "source": [
    "# Antenas:\n",
    "\n",
    "Las antenas utilizadas, modelo NAP100 de Ashtech, que son las antenas originales del equipo Promark 3, no se encuentran en el archivo de información de antena del software de procesamiento RTKLIB, los parámetros utilizados, extraidos de la información que viene grabada en la antena, están a continuación y son agregados al archivo de antenas para poder realizar el cálculo.\n",
    "\n",
    "El formato del archivo es el siguiente:\n",
    "https://kb.igs.org/hc/en-us/articles/216104678-ANTEX-format-description\n",
    "\n",
    "Los datos agregados son:\n",
    "```      \n",
    "                                                            START OF ANTENNA    \n",
    "NAP100          NONE                                        TYPE / SERIAL NO    \n",
    "FIELD               JJC                      0    02-DIC-20 METH / BY / # / DATE\n",
    "     0.0                                                    DAZI                \n",
    "     0.0  80.0   5.0                                        ZEN1 / ZEN2 / DZEN  \n",
    "     1                                                      # OF FREQUENCIES    \n",
    "CONVERTED FROM RELATIVE NGS ANTENNA CALIBRATIONS            COMMENT             \n",
    "   G01                                                      START OF FREQUENCY  \n",
    "      0.00      0.00     73.00                              NORTH / EAST / UP   \n",
    "   G01                                                      END OF FREQUENCY    \n",
    "                                                            END OF ANTENNA      \n",
    "```      \n",
    "                                                            \n",
    "\n"
   ]
  },
  {
   "cell_type": "code",
   "execution_count": null,
   "metadata": {},
   "outputs": [],
   "source": [
    "antenaNAP100 = \\\n",
    "\"\"\"\n",
    "                                                            START OF ANTENNA    \n",
    "NAP100          NONE                                        TYPE / SERIAL NO    \n",
    "FIELD               JJC                      0    02-DIC-20 METH / BY / # / DATE\n",
    "     0.0                                                    DAZI                \n",
    "     0.0  80.0   5.0                                        ZEN1 / ZEN2 / DZEN  \n",
    "     1                                                      # OF FREQUENCIES    \n",
    "CONVERTED FROM RELATIVE NGS ANTENNA CALIBRATIONS            COMMENT             \n",
    "   G01                                                      START OF FREQUENCY  \n",
    "      0.00      0.00     73.00                              NORTH / EAST / UP   \n",
    "   G01                                                      END OF FREQUENCY    \n",
    "                                                            END OF ANTENNA\n",
    "EOF\n",
    "\"\"\"\n",
    "!cat /rtklib/data/igs05.atx - <<EOF > /rtklib/data/antenas.atx $antenaNAP100"
   ]
  },
  {
   "cell_type": "code",
   "execution_count": null,
   "metadata": {},
   "outputs": [],
   "source": [
    "from importlib import reload\n",
    "pyconf= reload(pyconf)"
   ]
  },
  {
   "cell_type": "code",
   "execution_count": null,
   "metadata": {},
   "outputs": [],
   "source": [
    "config_form1 = pyconf.formulario()"
   ]
  },
  {
   "cell_type": "code",
   "execution_count": null,
   "metadata": {},
   "outputs": [],
   "source": [
    "pyconf.load_conf('/rtklib/confs/L1-long-bl.cfg',config_form1)"
   ]
  },
  {
   "cell_type": "code",
   "execution_count": null,
   "metadata": {},
   "outputs": [],
   "source": [
    "config_form1"
   ]
  },
  {
   "cell_type": "code",
   "execution_count": null,
   "metadata": {},
   "outputs": [],
   "source": [
    "pyconf.save_conf(f'{TMPFLD}/conf.cfg',config_form1)"
   ]
  },
  {
   "cell_type": "code",
   "execution_count": null,
   "metadata": {},
   "outputs": [],
   "source": [
    "with open(f'{TMPFLD}/conf.cfg','r') as f:\n",
    "    lines = f.readlines()\n",
    "\n",
    "params = {i.strip():j.strip() for i,j in [k.split('=') for k in lines] }\n",
    "\n",
    "display(Markdown(mdconfigs.format(**params)))"
   ]
  },
  {
   "cell_type": "code",
   "execution_count": null,
   "metadata": {},
   "outputs": [],
   "source": [
    "import gluecode.downloaders as dld"
   ]
  },
  {
   "cell_type": "code",
   "execution_count": null,
   "metadata": {},
   "outputs": [],
   "source": [
    "sp3files = dld.getPreciseEphs(datos['base'],f'{TMPFLD}/sp3')"
   ]
  },
  {
   "cell_type": "markdown",
   "metadata": {},
   "source": [
    "# Procesamiento con rnx2rtkp\n",
    "\n",
    "El procesamiento fue realizado con el programa por linea de comandos de RTKlib, ```rnx2rtkp```  en dos corridas, directa ('*forward*') e invertida ('*backward*') del filtro de kallman para cada sesión.\n",
    "\n",
    "A continuación el encabezado de la salida del programa, el resto de la salida, correspondiente a los resultados, se presenta mas adelante en forma de tablas y gráficas."
   ]
  },
  {
   "cell_type": "code",
   "execution_count": null,
   "metadata": {},
   "outputs": [],
   "source": [
    "_= datos['pie'].process(datos['base'],f'{TMPFLD}/conf.cfg',sp3=sp3files,nav=REFNAV)"
   ]
  },
  {
   "cell_type": "code",
   "execution_count": null,
   "metadata": {},
   "outputs": [],
   "source": [
    "_= datos['pie'].reloadProcesed()"
   ]
  },
  {
   "cell_type": "code",
   "execution_count": null,
   "metadata": {},
   "outputs": [],
   "source": [
    "proceso = datos['pie']\n",
    "display(Markdown(mdpos.format(npto=PIE[:4],\n",
    "                              ptlat=report.GEOBA_final_pos(proceso,proj=None).iloc[0]['latitud'],\n",
    "                              ptlon=report.GEOBA_final_pos(proceso,proj=None).iloc[0]['longitud'],\n",
    "                              tablaGK=report.GEOBA_final_pos(proceso).to_markdown(floatfmt=\".3f\"),\n",
    "                              tablaLL=report.GEOBA_final_pos(proceso,proj='geograficas').to_markdown(floatfmt=\".3f\"))))"
   ]
  },
  {
   "cell_type": "code",
   "execution_count": null,
   "metadata": {},
   "outputs": [],
   "source": [
    "report.plotSessionGraphs(datos['pie'].sessData,filtro=lambda x:report.filtroGauss(report.filtroQ(x)))"
   ]
  },
  {
   "cell_type": "code",
   "execution_count": null,
   "metadata": {},
   "outputs": [],
   "source": [
    "sitio = tosogo.parse_marker(datos['pie']._sumary)\n",
    "\n",
    "with open('/rtklib/data/ramsac.pos','a+') as f:\n",
    "    print('{latitud:13.9f} {longitud:14.9f} {altura:9.3f}  {punto}  {punto}'\\\n",
    "          .format(**report.GEOBA_final_pos(datos['pie'],proj=None).iloc[0],punto=sitio),file=f)"
   ]
  },
  {
   "cell_type": "markdown",
   "metadata": {},
   "source": [
    "# Vector de Orientación"
   ]
  },
  {
   "cell_type": "code",
   "execution_count": null,
   "metadata": {},
   "outputs": [],
   "source": [
    "config_form2 = pyconf.formulario()"
   ]
  },
  {
   "cell_type": "code",
   "execution_count": null,
   "metadata": {},
   "outputs": [],
   "source": [
    "pyconf.load_conf('/rtklib/confs/L1-short-bl.cfg',config_form2)"
   ]
  },
  {
   "cell_type": "code",
   "execution_count": null,
   "metadata": {},
   "outputs": [],
   "source": [
    "config_form2"
   ]
  },
  {
   "cell_type": "code",
   "execution_count": null,
   "metadata": {},
   "outputs": [],
   "source": [
    "pyconf.save_conf(f'{TMPFLD}/conf2.cfg',config_form2)"
   ]
  },
  {
   "cell_type": "code",
   "execution_count": null,
   "metadata": {},
   "outputs": [],
   "source": [
    "with open(f'{TMPFLD}/conf2.cfg','r') as f:\n",
    "    lines = f.readlines()\n",
    "\n",
    "params = {i.strip():j.strip() for i,j in [k.split('=') for k in lines] }\n",
    "\n",
    "display(Markdown(mdconfigs.format(**params)))"
   ]
  },
  {
   "cell_type": "markdown",
   "metadata": {},
   "source": [
    "# Procesamiento con rnx2rtkp\n",
    "\n",
    "El procesamiento fue realizado con el programa por linea de comandos de RTKlib, ```rnx2rtkp```  en dos corridas, directa ('*forward*') e invertida ('*backward*') del filtro de kallman para cada sesión.\n",
    "\n",
    "A continuación el encabezado de la salida del programa, el resto de la salida, correspondiente a los resultados, se presenta mas adelante en forma de tablas y gráficas."
   ]
  },
  {
   "cell_type": "code",
   "execution_count": null,
   "metadata": {},
   "outputs": [],
   "source": [
    "_= datos['azimut'].process(datos['pie'],f'{TMPFLD}/conf2.cfg',sp3=sp3files,nav=REFNAV)"
   ]
  },
  {
   "cell_type": "code",
   "execution_count": null,
   "metadata": {},
   "outputs": [],
   "source": [
    "_= datos['azimut'].reloadProcesed()"
   ]
  },
  {
   "cell_type": "code",
   "execution_count": null,
   "metadata": {},
   "outputs": [],
   "source": [
    "proceso = datos['azimut']\n",
    "display(Markdown(mdpos.format(npto=PIE[:4],\n",
    "                              ptlat=report.GEOBA_final_pos(proceso,proj=None).iloc[0]['latitud'],\n",
    "                              ptlon=report.GEOBA_final_pos(proceso,proj=None).iloc[0]['longitud'],\n",
    "                              tablaGK=report.GEOBA_final_pos(proceso).to_markdown(floatfmt=\".3f\"),\n",
    "                              tablaLL=report.GEOBA_final_pos(proceso,proj='geograficas').to_markdown(floatfmt=\".3f\"))))"
   ]
  },
  {
   "cell_type": "code",
   "execution_count": null,
   "metadata": {},
   "outputs": [],
   "source": [
    "report.plotSessionGraphs(datos['azimut'].sessData,filtro=lambda x:report.filtroGauss(report.filtroQ(x)))"
   ]
  },
  {
   "cell_type": "code",
   "execution_count": null,
   "metadata": {},
   "outputs": [],
   "source": [
    "pd.DataFrame({tosogo.parse_marker(datos[i]._sumary):report.finalPOS(datos[i])\\\n",
    "              for i in ('base','pie','azimut')}).to_csv(f'{OUTPUTFLD}/Resultados.csv')"
   ]
  }
 ],
 "metadata": {
  "language_info": {
   "name": "python",
   "pygments_lexer": "ipython3"
  },
  "kernelspec": {
   "display_name": "Python 3",
   "language": "python",
   "name": "python3"
  }
 },
 "nbformat": 4,
 "nbformat_minor": 4
}
