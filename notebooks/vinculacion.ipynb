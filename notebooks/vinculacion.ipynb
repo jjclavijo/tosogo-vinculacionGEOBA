{
 "cells": [
  {
   "cell_type": "code",
   "execution_count": 1,
   "metadata": {},
   "outputs": [],
   "source": [
    "#!ln -s /proyecto"
   ]
  },
  {
   "cell_type": "code",
   "execution_count": 2,
   "metadata": {},
   "outputs": [],
   "source": [
    "import warnings\n",
    "warnings.filterwarnings('ignore')\n",
    "\n",
    "import os.path\n",
    "import pandas as pd\n",
    "import numpy as np\n",
    "import matplotlib.pyplot as plt\n",
    "\n",
    "import logging\n",
    "import sys\n",
    "\n",
    "logging.basicConfig(\n",
    "    format='%(asctime)s [%(levelname)s] %(name)s - %(message)s'\n",
    "    , level=logging.INFO\n",
    "    , datefmt = '%H:%M:%S'\n",
    "    , stream = sys.stdout\n",
    ")\n",
    "\n",
    "\n",
    "from IPython.display import display,Markdown\n",
    "\n",
    "from geoba import fillforms\n",
    "import tosogoJupyter.rtkconf as pyconf\n",
    "from gluecode import handlers as tosogo\n",
    "from gluecode import printers as report\n",
    "from gluecode.mdtemplates import *"
   ]
  },
  {
   "cell_type": "markdown",
   "metadata": {},
   "source": [
    "# Memoria de Relevamiento\n",
    "\n",
    "Se midieron con equipos GPS de simple frecuencia dos puntos que se denominaron\n",
    "PFD1 y PFD2, y se vincularon a la estación permanente IGM1. En este apartado\n",
    "se describe el procesamiento GPS, incluyendo la salida del programa de procesamiento. "
   ]
  },
  {
   "cell_type": "code",
   "execution_count": 3,
   "metadata": {},
   "outputs": [],
   "source": [
    "FILEFLD = 'proyecto'\n",
    "BASE = 'igm10240.20o'\n",
    "PIE = 'PFD10240.20o'\n",
    "AZIMUT = 'PFD20240.20o'"
   ]
  },
  {
   "cell_type": "code",
   "execution_count": 4,
   "metadata": {},
   "outputs": [
    {
     "data": {
      "text/markdown": [
       "\n",
       "## Archivos de medición\n",
       "\n",
       "Los archivos de medición se incluyen en formato Rinex 2.11, como\n",
       "\n",
       "- Base permanente RAMSAC: `igm10240.20o`\n",
       "- Punto base del vector: `PFD10240.20o`\n",
       "- Punto de azimut del vector: `PFD20240.20o`\n",
       "\n",
       "## Datos de Sesion.\n",
       "\n",
       "Los datos de la sesión, extraidos de los archivos de medición,\n",
       "se proveen en los anexos 4.1 que se adjuntan.\n",
       "\n",
       "Se incluye también el anexo 4 con datos generales del trabajo.\n"
      ],
      "text/plain": [
       "<IPython.core.display.Markdown object>"
      ]
     },
     "metadata": {},
     "output_type": "display_data"
    }
   ],
   "source": [
    "display(Markdown(mdfiles.format(BASE=BASE,PIE=PIE,AZIMUT=AZIMUT)))"
   ]
  },
  {
   "cell_type": "markdown",
   "metadata": {},
   "source": [
    "## Archivos de Sesiones\n",
    "\n",
    "Cada vector se separó en dos sesiones de medición, utilizando la herramienta RinEdit, de GPSTk"
   ]
  },
  {
   "cell_type": "code",
   "execution_count": 5,
   "metadata": {},
   "outputs": [
    {
     "name": "stdout",
     "output_type": "stream",
     "text": [
      "20:15:49 [INFO] Gpstk - Ejecutando RinSum para extraer información de proyecto/igm10240.20o\n",
      "20:15:53 [INFO] Gpstk - Ejecutando RinSum para extraer información de proyecto/PFD10240.20o\n",
      "20:15:54 [INFO] Gpstk - Ejecutando RinSum para extraer información de proyecto/PFD20240.20o\n",
      "20:15:54 [INFO] Gpstk - Ejecutando PRSolve: calculando solución L1 autonoma de proyecto/PFD10240.20o\n",
      "20:16:35 [INFO] Gpstk - Cargando Pdop: desde la solucion autonoma de /tmp/tmp_4t5sbqh/PFD10240.sol\n",
      "20:16:36 [INFO] Gpstk - Ejecutando PRSolve: calculando solución L1 autonoma de proyecto/PFD20240.20o\n",
      "20:17:10 [INFO] Gpstk - Cargando Pdop: desde la solucion autonoma de /tmp/tmpxbereelh/PFD20240.sol\n",
      "20:17:11 [INFO] Gpstk - Ejecutando PRSolve: calculando solución L1 autonoma de proyecto/igm10240.20o\n",
      "20:18:17 [INFO] Gpstk - Cargando Pdop: desde la solucion autonoma de /tmp/tmpjsphtg3z/igm10240.sol\n",
      "20:18:18 [INFO] Gpstk - Filtrando proyecto/PFD10240.20o: eliminando epocas con pdop > 2.5\n",
      "20:18:20 [INFO] Gpstk - Usando RinSum para chequear la validez de proyecto/filt_PFD10240.20o\n",
      "20:18:21 [INFO] Gpstk - Ejecutando RinSum para extraer información de proyecto/filt_PFD10240.20o\n",
      "20:18:22 [INFO] Gpstk - Ejecutando PRSolve: calculando solución L1 autonoma de proyecto/filt_PFD10240.20o\n",
      "20:19:01 [INFO] Gpstk - Cargando Pdop: desde la solucion autonoma de /tmp/tmp5_m8ilut/filt_PFD10240.sol\n",
      "20:19:01 [INFO] Gpstk - Filtrando proyecto/PFD20240.20o: eliminando epocas con pdop > 2.5\n",
      "20:19:03 [INFO] Gpstk - Usando RinSum para chequear la validez de proyecto/filt_PFD20240.20o\n",
      "20:19:04 [INFO] Gpstk - Ejecutando RinSum para extraer información de proyecto/filt_PFD20240.20o\n",
      "20:19:05 [INFO] Gpstk - Ejecutando PRSolve: calculando solución L1 autonoma de proyecto/filt_PFD20240.20o\n",
      "20:19:38 [INFO] Gpstk - Cargando Pdop: desde la solucion autonoma de /tmp/tmp5en19e67/filt_PFD20240.sol\n",
      "20:19:39 [INFO] Gpstk - Filtrando proyecto/igm10240.20o: eliminando epocas con pdop > 2.5\n",
      "20:19:53 [INFO] Gpstk - Usando RinSum para chequear la validez de proyecto/filt_igm10240.20o\n",
      "20:19:57 [INFO] Gpstk - Ejecutando RinSum para extraer información de proyecto/filt_igm10240.20o\n",
      "20:20:00 [INFO] Gpstk - Ejecutando PRSolve: calculando solución L1 autonoma de proyecto/filt_igm10240.20o\n",
      "20:21:08 [INFO] Gpstk - Cargando Pdop: desde la solucion autonoma de /tmp/tmpzrl37abq/filt_igm10240.sol\n"
     ]
    }
   ],
   "source": [
    "datos = {}\n",
    "\n",
    "for i,k in zip([BASE, PIE, AZIMUT],['base','pie','azimut']):\n",
    "    archivo = os.path.join(FILEFLD,i)\n",
    "    f = tosogo.DataFile(archivo)\n",
    "    datos[k] = f\n",
    "\n",
    "REFNAV = datos['base'].path[:-1]+'n'\n",
    "\n",
    "for k in ['pie','azimut','base']:\n",
    "    datos[k].store_pdops(nav=REFNAV)\n",
    "\n",
    "valid_eps_total = {'{}'.format(k):datos[k].pdop.size for k in ['pie','azimut']}\n",
    "\n",
    "# TRIM PDOP > 2.5\n",
    "for k in ['pie','azimut','base']:\n",
    "    #datos[k].store_pdops(nav=REFNAV)\n",
    "    datos[k] = datos[k]._pdop_filter()\n",
    "    datos[k].store_pdops(nav=REFNAV)\n",
    "    \n",
    "valid_eps_filt = {'{}'.format(k):datos[k].pdop.size for k in ['pie','azimut']}"
   ]
  },
  {
   "cell_type": "code",
   "execution_count": 6,
   "metadata": {},
   "outputs": [
    {
     "data": {
      "text/markdown": [
       "\n",
       "## Filtrado por PDOP\n",
       "\n",
       "Con la herramienta PRSolve, parte de GPSTk, se calculó el PDOP para cada época de los archivos de medición.\n",
       "\n",
       "Luego, con la herramienta RinEdit se eliminaron las epocas con PDOP > 2.5, resultando en:\n",
       "\n",
       "- PFD1: 936 epocas eliminadas, 4.96 horas efectivas de medición\n",
       "- PFD2: 1023 epocas eliminadas, 4.45 horas efectivas de medición\n"
      ],
      "text/plain": [
       "<IPython.core.display.Markdown object>"
      ]
     },
     "metadata": {},
     "output_type": "display_data"
    }
   ],
   "source": [
    "display(Markdown(mdpdop.format(base=PIE[:4],az=AZIMUT[:4],\n",
    "                               nbase=valid_eps_total['pie']-valid_eps_filt['pie'],\n",
    "                               naz=valid_eps_total['azimut']-valid_eps_filt['azimut'],\n",
    "                               nbasehs=valid_eps_filt['pie']/3600.,\n",
    "                               nazhs=valid_eps_filt['azimut']/3600.)))"
   ]
  },
  {
   "cell_type": "code",
   "execution_count": 7,
   "metadata": {},
   "outputs": [
    {
     "name": "stdout",
     "output_type": "stream",
     "text": [
      "20:21:09 [INFO] Gpstk - Ejecutando RinEdit: Cortando proyecto/filt_PFD10240.20o hasta 2020-01-24T21:11:45.000000\n",
      "20:21:10 [INFO] Gpstk - Usando RinSum para chequear la validez de proyecto/splits/filt_PFD10241.20o\n",
      "20:21:11 [INFO] Gpstk - RinEdit: generado proyecto/splits/filt_PFD10241.20o\n",
      "20:21:11 [INFO] Gpstk - Ejecutando RinEdit: Cortando proyecto/filt_PFD10240.20o desde 2020-01-24T21:11:45.000000\n",
      "20:21:13 [INFO] Gpstk - Usando RinSum para chequear la validez de proyecto/splits/filt_PFD10242.20o\n",
      "20:21:13 [INFO] Gpstk - RinEdit: generado proyecto/splits/filt_PFD10242.20o\n",
      "20:21:13 [INFO] Gpstk - Ejecutando RinEdit: Cortando proyecto/filt_PFD20240.20o hasta 2020-01-24T21:59:39.000000\n",
      "20:21:14 [INFO] Gpstk - Usando RinSum para chequear la validez de proyecto/splits/filt_PFD20241.20o\n",
      "20:21:14 [INFO] Gpstk - RinEdit: generado proyecto/splits/filt_PFD20241.20o\n",
      "20:21:15 [INFO] Gpstk - Ejecutando RinEdit: Cortando proyecto/filt_PFD20240.20o desde 2020-01-24T21:59:39.000000\n",
      "20:21:16 [INFO] Gpstk - Usando RinSum para chequear la validez de proyecto/splits/filt_PFD20242.20o\n",
      "20:21:16 [INFO] Gpstk - RinEdit: generado proyecto/splits/filt_PFD20242.20o\n"
     ]
    }
   ],
   "source": [
    "SPLITPATH = os.path.join(FILEFLD,'splits')\n",
    "\n",
    "!mkdir -p {SPLITPATH}\n",
    "\n",
    "for k,v in datos.items():\n",
    "    if k == 'base':\n",
    "        continue\n",
    "    else:\n",
    "        v.mid_split(folder=SPLITPATH)\n",
    "        #v.store_pdops(nav=REFNAV)"
   ]
  },
  {
   "cell_type": "code",
   "execution_count": 8,
   "metadata": {},
   "outputs": [
    {
     "data": {
      "text/markdown": [
       "\n",
       "## Archivos de Sesiones\n",
       "\n",
       "Se generaron los archivos de sesión para el cálculo individual, utilizando RinEdit para realizar el corte de los mismos.\n",
       "\n",
       "- Vector IGM1->PFD1:\n",
       "  - Sesion 1: filt_PFD10240.20o; filt_PFD10241.20o\n",
       "  - Sesion 2: filt_PFD10240.20o; filt_PFD10242.20o\n",
       "  - Sesion completa: filt_PFD10240.20o; filt_igm10240.20o\n",
       "\n",
       "- Vector PFD1->PFD2:\n",
       "  - Sesion 1: filt_igm10240.20o; filt_PFD20241.20o\n",
       "  - Sesion 2: filt_igm10240.20o; filt_PFD20242.20o\n",
       "  - Sesion completa: filt_PFD10240.20o; filt_PFD20241.20o\n"
      ],
      "text/plain": [
       "<IPython.core.display.Markdown object>"
      ]
     },
     "metadata": {},
     "output_type": "display_data"
    }
   ],
   "source": [
    "display(Markdown(mdsessions.format(nbase=BASE[:4].upper(),npie=PIE[:4].upper(),naz=AZIMUT[:4].upper(),\n",
    "                                  fpie=os.path.basename(datos['base'].path),\n",
    "                                  fbase=os.path.basename(datos['pie'].path),\n",
    "                                  faz=os.path.basename(datos['azimut'].path),\n",
    "                                  fpie1=os.path.basename(datos['pie'].path).replace('0.','1.'),\n",
    "                                  faz1=os.path.basename(datos['azimut'].path).replace('0.','1.'),\n",
    "                                  fpie2=os.path.basename(datos['pie'].path).replace('0.','2.'),\n",
    "                                  faz2=os.path.basename(datos['azimut'].path).replace('0.','2.'),\n",
    "                                  )))"
   ]
  },
  {
   "cell_type": "code",
   "execution_count": 9,
   "metadata": {},
   "outputs": [
    {
     "name": "stdout",
     "output_type": "stream",
     "text": [
      "20:21:16 [INFO] Gpstk - Ejecutando PRSolve: calculando solución L1 autonoma de proyecto/filt_igm10240.20o\n",
      "20:22:25 [INFO] Gpstk - Cargando Pdop: desde la solucion autonoma de /tmp/tmplxr7js4q/filt_igm10240.sol\n",
      "20:22:26 [INFO] Gpstk - Ejecutando PRSolve: calculando solución L1 autonoma de proyecto/filt_PFD10240.20o\n",
      "20:23:05 [INFO] Gpstk - Cargando Pdop: desde la solucion autonoma de /tmp/tmp_6mj6aky/filt_PFD10240.sol\n",
      "20:23:05 [INFO] Gpstk - Ejecutando PRSolve: calculando solución L1 autonoma de proyecto/splits/filt_PFD10241.20o\n",
      "20:23:23 [INFO] Gpstk - Cargando Pdop: desde la solucion autonoma de /tmp/tmp965sbwom/filt_PFD10241.sol\n",
      "20:23:24 [INFO] Gpstk - Ejecutando PRSolve: calculando solución L1 autonoma de proyecto/splits/filt_PFD10242.20o\n",
      "20:23:42 [INFO] Gpstk - Cargando Pdop: desde la solucion autonoma de /tmp/tmp7yj4flzr/filt_PFD10242.sol\n",
      "20:23:42 [INFO] Gpstk - Ejecutando PRSolve: calculando solución L1 autonoma de proyecto/filt_PFD20240.20o\n",
      "20:24:11 [INFO] Gpstk - Cargando Pdop: desde la solucion autonoma de /tmp/tmp6sfwejnr/filt_PFD20240.sol\n",
      "20:24:11 [INFO] Gpstk - Ejecutando PRSolve: calculando solución L1 autonoma de proyecto/splits/filt_PFD20241.20o\n",
      "20:24:26 [INFO] Gpstk - Cargando Pdop: desde la solucion autonoma de /tmp/tmpkae1d9bt/filt_PFD20241.sol\n",
      "20:24:26 [INFO] Gpstk - Ejecutando PRSolve: calculando solución L1 autonoma de proyecto/splits/filt_PFD20242.20o\n",
      "20:24:45 [INFO] Gpstk - Cargando Pdop: desde la solucion autonoma de /tmp/tmpj7mks9px/filt_PFD20242.sol\n"
     ]
    }
   ],
   "source": [
    "for k,v in datos.items():\n",
    "    v.store_pdops(nav=REFNAV)"
   ]
  },
  {
   "cell_type": "code",
   "execution_count": 10,
   "metadata": {},
   "outputs": [
    {
     "data": {
      "text/markdown": [
       "\n",
       "## PDOP de cada sesión\n",
       "\n",
       "Para cada sesión se buscó el PDOP máximo, y a continuación se presentan las gráficas\n",
       "de PDOP en función del tiempo para cada una.\n"
      ],
      "text/plain": [
       "<IPython.core.display.Markdown object>"
      ]
     },
     "metadata": {},
     "output_type": "display_data"
    }
   ],
   "source": [
    "display(Markdown(mdpdopgraphs))"
   ]
  },
  {
   "cell_type": "code",
   "execution_count": 11,
   "metadata": {},
   "outputs": [
    {
     "data": {
      "image/png": "[encoded data removed]",
      "text/plain": [
       "<Figure size 720x216 with 1 Axes>"
      ]
     },
     "metadata": {
      "needs_background": "light"
     },
     "output_type": "display_data"
    },
    {
     "data": {
      "image/png": "[encoded data removed]",
      "text/plain": [
       "<Figure size 720x216 with 1 Axes>"
      ]
     },
     "metadata": {
      "needs_background": "light"
     },
     "output_type": "display_data"
    },
    {
     "data": {
      "image/png": "[encoded data removed]",
      "text/plain": [
       "<Figure size 720x216 with 1 Axes>"
      ]
     },
     "metadata": {
      "needs_background": "light"
     },
     "output_type": "display_data"
    },
    {
     "data": {
      "image/png": "[encoded data removed]",
      "text/plain": [
       "<Figure size 720x216 with 1 Axes>"
      ]
     },
     "metadata": {
      "needs_background": "light"
     },
     "output_type": "display_data"
    }
   ],
   "source": [
    "for doprover,dopbase,titulo in zip(\n",
    "    [datos['pie'].p1pdop,datos['pie'].p2pdop,datos['azimut'].p1pdop,datos['azimut'].p2pdop],\n",
    "    [datos['base'].pdop,datos['base'].pdop,datos['pie'].pdop,datos['pie'].pdop],\n",
    "    ['Vector Largo Sesion A','Vector Largo Sesion B',\n",
    "     'Vector Corto Sesion A','Vector Corto Sesion B']):\n",
    "    \n",
    "    fig,ax = plt.subplots(figsize=(10,3))\n",
    "    doprover.plot(style='x',ax=ax,label='PDOP Rover')\n",
    "    dopbasere = dopbase.reindex(doprover.index)\n",
    "    dopbasere.plot(style='.',ax=ax,label='PDOP Base')\n",
    "    ax.set_title(titulo + ' PDOP máximo: {}'.format(max([doprover.max(),dopbasere.max()])))\n",
    "    ax.legend()\n",
    "    ax.set_xlabel(\"Tiempo\")\n",
    "    ax.set_ylabel(\"PDOP\")\n",
    "    plt.show()"
   ]
  },
  {
   "cell_type": "markdown",
   "metadata": {},
   "source": [
    "# Con esta información se generaron los Anexos 4 y 4.1"
   ]
  },
  {
   "cell_type": "code",
   "execution_count": 12,
   "metadata": {},
   "outputs": [],
   "source": [
    "filesinfo = fillforms.get_rx_data(datos['base'].path,\n",
    "                                  datos['pie'].p1path,\n",
    "                                  datos['pie'].p2path )\n",
    "fillforms.make_template(filesinfo,template_file='./forms/Anexo4.1.fdf',\n",
    "                        out=f'./output/Anexo4.1-{BASE[:4]}-{PIE[:4]}.fdf')"
   ]
  },
  {
   "cell_type": "code",
   "execution_count": 13,
   "metadata": {},
   "outputs": [],
   "source": [
    "kwargs = {\n",
    "    'pdf_file':'./forms/Anexo4.1.pdf',\n",
    "    'fdf_file':f'./output/Anexo4.1-{BASE[:4]}-{PIE[:4]}.fdf',\n",
    "    'out':f'./output/Anexo4.1-{BASE[:4]}-{PIE[:4]}.pdf'\n",
    "}\n",
    "\n",
    "fillforms.apply_template(**kwargs)"
   ]
  },
  {
   "cell_type": "code",
   "execution_count": 14,
   "metadata": {},
   "outputs": [],
   "source": [
    "filesinfo = fillforms.get_rx_data(datos['pie'].path,\n",
    "                                  datos['azimut'].p1path,\n",
    "                                  datos['azimut'].p2path )\n",
    "fillforms.make_template(filesinfo,template_file='./forms/Anexo4.1.fdf',\n",
    "                        out=f'./output/Anexo4.1-{PIE[:4]}-{AZIMUT[:4]}.fdf')"
   ]
  },
  {
   "cell_type": "code",
   "execution_count": 15,
   "metadata": {},
   "outputs": [],
   "source": [
    "kwargs = {\n",
    "    'pdf_file':'./forms/Anexo4.1.pdf',\n",
    "    'fdf_file':f'./output/Anexo4.1-{PIE[:4]}-{AZIMUT[:4]}.fdf',\n",
    "    'out':f'./output/Anexo4.1-{PIE[:4]}-{AZIMUT[:4]}.pdf'\n",
    "}\n",
    "\n",
    "fillforms.apply_template(**kwargs)"
   ]
  },
  {
   "cell_type": "markdown",
   "metadata": {},
   "source": [
    "# Antenas:\n",
    "\n",
    "Las antenas utilizadas, modelo NAP100 de Ashtech, que son las antenas originales del equipo Promark 3, no se encuentran en el archivo de información de antena del software de procesamiento RTKLIB, los parámetros utilizados, extraidos de la información que viene grabada en la antena, están a continuación y son agregados al archivo de antenas para poder realizar el cálculo.\n",
    "\n",
    "El formato del archivo es el siguiente:\n",
    "https://kb.igs.org/hc/en-us/articles/216104678-ANTEX-format-description\n",
    "\n",
    "Los datos agregados son:\n",
    "```      \n",
    "                                                            START OF ANTENNA    \n",
    "NAP100          NONE                                        TYPE / SERIAL NO    \n",
    "FIELD               JJC                      0    02-DIC-20 METH / BY / # / DATE\n",
    "     0.0                                                    DAZI                \n",
    "     0.0  80.0   5.0                                        ZEN1 / ZEN2 / DZEN  \n",
    "     1                                                      # OF FREQUENCIES    \n",
    "CONVERTED FROM RELATIVE NGS ANTENNA CALIBRATIONS            COMMENT             \n",
    "   G01                                                      START OF FREQUENCY  \n",
    "      0.00      0.00     73.00                              NORTH / EAST / UP   \n",
    "   G01                                                      END OF FREQUENCY    \n",
    "                                                            END OF ANTENNA      \n",
    "```      \n",
    "                                                            \n",
    "\n"
   ]
  },
  {
   "cell_type": "code",
   "execution_count": 16,
   "metadata": {},
   "outputs": [],
   "source": [
    "antenaNAP100 = \\\n",
    "\"\"\"\n",
    "                                                            START OF ANTENNA    \n",
    "NAP100          NONE                                        TYPE / SERIAL NO    \n",
    "FIELD               JJC                      0    02-DIC-20 METH / BY / # / DATE\n",
    "     0.0                                                    DAZI                \n",
    "     0.0  80.0   5.0                                        ZEN1 / ZEN2 / DZEN  \n",
    "     1                                                      # OF FREQUENCIES    \n",
    "CONVERTED FROM RELATIVE NGS ANTENNA CALIBRATIONS            COMMENT             \n",
    "   G01                                                      START OF FREQUENCY  \n",
    "      0.00      0.00     73.00                              NORTH / EAST / UP   \n",
    "   G01                                                      END OF FREQUENCY    \n",
    "                                                            END OF ANTENNA\n",
    "EOF\n",
    "\"\"\"\n",
    "!cat /rtklib/data/igs05.atx - <<EOF > /rtklib/data/antenas.atx $antenaNAP100"
   ]
  },
  {
   "cell_type": "code",
   "execution_count": 17,
   "metadata": {},
   "outputs": [],
   "source": [
    "from importlib import reload\n",
    "pyconf= reload(pyconf)"
   ]
  },
  {
   "cell_type": "code",
   "execution_count": 18,
   "metadata": {},
   "outputs": [],
   "source": [
    "config_form1 = pyconf.formulario()"
   ]
  },
  {
   "cell_type": "code",
   "execution_count": 19,
   "metadata": {},
   "outputs": [],
   "source": [
    "pyconf.load_conf('/rtklib/confs/L1-long-bl.cfg',config_form1)"
   ]
  },
  {
   "cell_type": "code",
   "execution_count": 20,
   "metadata": {},
   "outputs": [
    {
     "data": {
      "application/vnd.jupyter.widget-view+json": {
       "model_id": "a51c9ca4807140d4b1bdb9031821e102",
       "version_major": 2,
       "version_minor": 0
      },
      "text/plain": [
       "GridspecLayout(children=(Dropdown(description='pos1-posmode', index=3, layout=Layout(grid_area='widget001'), o…"
      ]
     },
     "metadata": {},
     "output_type": "display_data"
    }
   ],
   "source": [
    "config_form1"
   ]
  },
  {
   "cell_type": "code",
   "execution_count": 21,
   "metadata": {},
   "outputs": [],
   "source": [
    "pyconf.save_conf('/proyecto/conf.cfg',config_form1)"
   ]
  },
  {
   "cell_type": "code",
   "execution_count": 22,
   "metadata": {},
   "outputs": [
    {
     "data": {
      "text/markdown": [
       "\n",
       "## Opciones de Procesamiento (RTKLIB)\n",
       "\n",
       "### General\n",
       "\n",
       "| Opción | valor |\n",
       "|--------|:-----:|\n",
       "|Modo de Procesamiento | static |\n",
       "|Frecuencias | l1 |\n",
       "|Modo del filtro Kallman | forward |\n",
       "|Mascara de Elevación | 10 |\n",
       "|Mascara de SNR |  |\n",
       "|Aceleración/velocidad en el filtro Kallman | on |\n",
       "|Corrección por marea terrestre | on |\n",
       "|Modo de Corrección de ionosfera | off |\n",
       "|Modo de Corrección de troposfera | saas |\n",
       "|Tipo de efemérides | brdc |\n",
       "|Excluir satelites |  |\n",
       "|Sistemas utilizados | gps |\n",
       "|Modo resolución de ambiguedad | fix-and-hold |\n",
       "|Resolver Ambiguedad Glonass (si corresponde) | on |\n",
       "|Umbral resolución de ambiguedad | 3 |\n",
       "|Minimo segmento para fijar ambiguedad | 60 |\n",
       "|Mascara de elevación para resolver ambiguedad | 15 |\n",
       "|Ciclos faltantes para resetear ambiguedad | 1 |\n",
       "|Minimo segmento para mantener ambiguedad | 120 |\n",
       "|Mascara de elevación para mantener ambiguedad | 20 |\n",
       "|Umbral para salto de ciclo | 0.05 |\n",
       "|Tipo de altura | ellipsoidal |\n",
       "\n",
       "### Parámetros del filtro Kallman\n",
       "\n",
       "| Opción | valor |\n",
       "|--------|:-----:|\n",
       "| Varianza relativa Codigo/fase | 100 |\n",
       "| Varianza fase [m] | 0.003 |\n",
       "| Varianza de fase segun elevación [m/seno(el)] | 0.003 |\n",
       "| Desvio a-priori Ambiguedades | 30 |\n",
       "| Desvio a-priori Ambiguedades retardo iono | 0.03 |\n",
       "| Desvio a-priori Ambiguedades retardo tropo | 0.6 |\n",
       "| Ruido de proceso aceleración H | 0.01 |\n",
       "| Ruido de proceso aceleración V | 0.001 |\n",
       "| Ruido de proceso ambiguedades | 0.0001 |\n",
       "| Ruido de proceso retardo ionosferico | 0.001 |\n",
       "| Ruido de proceso retardo troposferico | 0.0001 |\n",
       "| Estabilidad de reloj | 5e-12 |\n"
      ],
      "text/plain": [
       "<IPython.core.display.Markdown object>"
      ]
     },
     "metadata": {},
     "output_type": "display_data"
    }
   ],
   "source": [
    "with open('/proyecto/conf.cfg','r') as f:\n",
    "    lines = f.readlines()\n",
    "\n",
    "params = {i.strip():j.strip() for i,j in [k.split('=') for k in lines] }\n",
    "\n",
    "display(Markdown(mdconfigs.format(**params)))"
   ]
  },
  {
   "cell_type": "code",
   "execution_count": 23,
   "metadata": {},
   "outputs": [],
   "source": [
    "import gluecode.downloaders as dld"
   ]
  },
  {
   "cell_type": "code",
   "execution_count": 24,
   "metadata": {},
   "outputs": [],
   "source": [
    "sp3files = dld.getPreciseEphs(datos['base'],'/proyecto/sp3')"
   ]
  },
  {
   "cell_type": "markdown",
   "metadata": {},
   "source": [
    "# Procesamiento con rnx2rtkp\n",
    "\n",
    "El procesamiento fue realizado con el programa por linea de comandos de RTKlib, ```rnx2rtkp```  en dos corridas, directa ('*forward*') e invertida ('*backward*') del filtro de kallman para cada sesión.\n",
    "\n",
    "A continuación el encabezado de la salida del programa, el resto de la salida, correspondiente a los resultados, se presenta mas adelante en forma de tablas y gráficas."
   ]
  },
  {
   "cell_type": "code",
   "execution_count": 25,
   "metadata": {},
   "outputs": [
    {
     "name": "stdout",
     "output_type": "stream",
     "text": [
      "20:25:04 [INFO] Rtklib - Resolviendo vector con RTKLIB: \n",
      "20:25:04 [INFO] Rtklib - Archivo Base: proyecto/filt_igm10240.20o\n",
      "20:25:04 [INFO] Rtklib - Archivo Rotador: proyecto/filt_PFD10240.20o\n",
      "20:25:04 [INFO] Rtklib - Archivo de Configuración: proyecto/conf.cfg\n",
      "                                        \n",
      "Sesión: proyecto/sesiones/igm1-PFD1-0-fw\n",
      "% program   : RTKLIB ver.2.4.3\n",
      "% inp file  : proyecto/filt_PFD10240.20o\n",
      "% inp file  : proyecto/filt_igm10240.20o\n",
      "% inp file  : proyecto/igm10240.20n\n",
      "% inp file  : /proyecto/sp3/igs20896.sp3\n",
      "% inp file  : /proyecto/sp3/igs20894.sp3\n",
      "% inp file  : /proyecto/sp3/igs20895.sp3\n",
      "% obs start : 2020/01/24 18:35:15.0 GPST (week2089 498915.0s)\n",
      "% obs end   : 2020/01/24 23:48:15.0 GPST (week2089 517695.0s)\n",
      "% pos mode  : Static\n",
      "% freqs     : L1\n",
      "% solution  : Forward\n",
      "% elev mask : 10.0 deg\n",
      "% dynamics  : on\n",
      "% tidecorr  : on\n",
      "% ionos opt : OFF\n",
      "% tropo opt : Saastamoinen\n",
      "% ephemeris : Broadcast\n",
      "% navi sys  : GPS GLONASS\n",
      "% amb res   : Fix and Hold\n",
      "% amb glo   : ON\n",
      "% val thres : 3.0\n",
      "% antenna1  : NAP100          NONE  ( 0.0000  0.0000  1.3780)\n",
      "% antenna2  : ASH700936D_M    SNOW  ( 0.0000  0.0000  0.0000)\n",
      "% ref pos   :-34.572243703 -58.439319328   50.6937\n",
      "%\n",
      "\n",
      "\n",
      "20:25:48 [INFO] Rtklib - Resolviendo vector con RTKLIB: \n",
      "20:25:48 [INFO] Rtklib - Archivo Base: proyecto/filt_igm10240.20o\n",
      "20:25:48 [INFO] Rtklib - Archivo Rotador: proyecto/filt_PFD10240.20o\n",
      "20:25:48 [INFO] Rtklib - Archivo de Configuración: proyecto/conf.cfg\n",
      "                                        \n",
      "Sesión: proyecto/sesiones/igm1-PFD1-0-bw\n",
      "% program   : RTKLIB ver.2.4.3\n",
      "% inp file  : proyecto/filt_PFD10240.20o\n",
      "% inp file  : proyecto/filt_igm10240.20o\n",
      "% inp file  : proyecto/igm10240.20n\n",
      "% inp file  : /proyecto/sp3/igs20896.sp3\n",
      "% inp file  : /proyecto/sp3/igs20894.sp3\n",
      "% inp file  : /proyecto/sp3/igs20895.sp3\n",
      "% obs start : 2020/01/24 18:35:15.0 GPST (week2089 498915.0s)\n",
      "% obs end   : 2020/01/24 23:48:15.0 GPST (week2089 517695.0s)\n",
      "% pos mode  : Static\n",
      "% freqs     : L1\n",
      "% solution  : Backward\n",
      "% elev mask : 10.0 deg\n",
      "% dynamics  : on\n",
      "% tidecorr  : on\n",
      "% ionos opt : OFF\n",
      "% tropo opt : Saastamoinen\n",
      "% ephemeris : Broadcast\n",
      "% navi sys  : GPS GLONASS\n",
      "% amb res   : Fix and Hold\n",
      "% amb glo   : ON\n",
      "% val thres : 3.0\n",
      "% antenna1  : NAP100          NONE  ( 0.0000  0.0000  1.3780)\n",
      "% antenna2  : ASH700936D_M    SNOW  ( 0.0000  0.0000  0.0000)\n",
      "% ref pos   :-34.572243703 -58.439319328   50.6937\n",
      "%\n",
      "\n",
      "\n",
      "20:26:36 [INFO] Rtklib - Resolviendo vector con RTKLIB: \n",
      "20:26:36 [INFO] Rtklib - Archivo Base: proyecto/filt_igm10240.20o\n",
      "20:26:36 [INFO] Rtklib - Archivo Rotador: proyecto/splits/filt_PFD10241.20o\n",
      "20:26:36 [INFO] Rtklib - Archivo de Configuración: proyecto/conf.cfg\n",
      "                                        \n",
      "Sesión: proyecto/sesiones/igm1-PFD1-1-fw\n",
      "% program   : RTKLIB ver.2.4.3\n",
      "% inp file  : proyecto/splits/filt_PFD10241.20o\n",
      "% inp file  : proyecto/filt_igm10240.20o\n",
      "% inp file  : proyecto/igm10240.20n\n",
      "% inp file  : /proyecto/sp3/igs20896.sp3\n",
      "% inp file  : /proyecto/sp3/igs20894.sp3\n",
      "% inp file  : /proyecto/sp3/igs20895.sp3\n",
      "% obs start : 2020/01/24 18:35:15.0 GPST (week2089 498915.0s)\n",
      "% obs end   : 2020/01/24 21:11:45.0 GPST (week2089 508305.0s)\n",
      "% pos mode  : Static\n",
      "% freqs     : L1\n",
      "% solution  : Forward\n",
      "% elev mask : 10.0 deg\n",
      "% dynamics  : on\n",
      "% tidecorr  : on\n",
      "% ionos opt : OFF\n",
      "% tropo opt : Saastamoinen\n",
      "% ephemeris : Broadcast\n",
      "% navi sys  : GPS GLONASS\n",
      "% amb res   : Fix and Hold\n",
      "% amb glo   : ON\n",
      "% val thres : 3.0\n",
      "% antenna1  : NAP100          NONE  ( 0.0000  0.0000  1.3780)\n",
      "% antenna2  : ASH700936D_M    SNOW  ( 0.0000  0.0000  0.0000)\n",
      "% ref pos   :-34.572243703 -58.439319328   50.6937\n",
      "%\n",
      "\n",
      "\n",
      "20:27:04 [INFO] Rtklib - Resolviendo vector con RTKLIB: \n",
      "20:27:04 [INFO] Rtklib - Archivo Base: proyecto/filt_igm10240.20o\n",
      "20:27:04 [INFO] Rtklib - Archivo Rotador: proyecto/splits/filt_PFD10241.20o\n",
      "20:27:04 [INFO] Rtklib - Archivo de Configuración: proyecto/conf.cfg\n",
      "                                        \n",
      "Sesión: proyecto/sesiones/igm1-PFD1-1-bw\n",
      "% program   : RTKLIB ver.2.4.3\n",
      "% inp file  : proyecto/splits/filt_PFD10241.20o\n",
      "% inp file  : proyecto/filt_igm10240.20o\n",
      "% inp file  : proyecto/igm10240.20n\n",
      "% inp file  : /proyecto/sp3/igs20896.sp3\n",
      "% inp file  : /proyecto/sp3/igs20894.sp3\n",
      "% inp file  : /proyecto/sp3/igs20895.sp3\n",
      "% obs start : 2020/01/24 18:35:15.0 GPST (week2089 498915.0s)\n",
      "% obs end   : 2020/01/24 21:11:45.0 GPST (week2089 508305.0s)\n",
      "% pos mode  : Static\n",
      "% freqs     : L1\n",
      "% solution  : Backward\n",
      "% elev mask : 10.0 deg\n",
      "% dynamics  : on\n",
      "% tidecorr  : on\n",
      "% ionos opt : OFF\n",
      "% tropo opt : Saastamoinen\n",
      "% ephemeris : Broadcast\n",
      "% navi sys  : GPS GLONASS\n",
      "% amb res   : Fix and Hold\n",
      "% amb glo   : ON\n",
      "% val thres : 3.0\n",
      "% antenna1  : NAP100          NONE  ( 0.0000  0.0000  1.3780)\n",
      "% antenna2  : ASH700936D_M    SNOW  ( 0.0000  0.0000  0.0000)\n",
      "% ref pos   :-34.572243703 -58.439319328   50.6937\n",
      "%\n",
      "\n",
      "\n",
      "20:27:28 [INFO] Rtklib - Resolviendo vector con RTKLIB: \n",
      "20:27:28 [INFO] Rtklib - Archivo Base: proyecto/filt_igm10240.20o\n",
      "20:27:28 [INFO] Rtklib - Archivo Rotador: proyecto/splits/filt_PFD10242.20o\n",
      "20:27:28 [INFO] Rtklib - Archivo de Configuración: proyecto/conf.cfg\n",
      "                                        \n",
      "Sesión: proyecto/sesiones/igm1-PFD1-2-fw\n",
      "% program   : RTKLIB ver.2.4.3\n",
      "% inp file  : proyecto/splits/filt_PFD10242.20o\n",
      "% inp file  : proyecto/filt_igm10240.20o\n",
      "% inp file  : proyecto/igm10240.20n\n",
      "% inp file  : /proyecto/sp3/igs20896.sp3\n",
      "% inp file  : /proyecto/sp3/igs20894.sp3\n",
      "% inp file  : /proyecto/sp3/igs20895.sp3\n",
      "% obs start : 2020/01/24 21:11:45.0 GPST (week2089 508305.0s)\n",
      "% obs end   : 2020/01/24 23:48:15.0 GPST (week2089 517695.0s)\n",
      "% pos mode  : Static\n",
      "% freqs     : L1\n",
      "% solution  : Forward\n",
      "% elev mask : 10.0 deg\n",
      "% dynamics  : on\n",
      "% tidecorr  : on\n",
      "% ionos opt : OFF\n",
      "% tropo opt : Saastamoinen\n",
      "% ephemeris : Broadcast\n",
      "% navi sys  : GPS GLONASS\n",
      "% amb res   : Fix and Hold\n",
      "% amb glo   : ON\n",
      "% val thres : 3.0\n",
      "% antenna1  : NAP100          NONE  ( 0.0000  0.0000  1.3780)\n",
      "% antenna2  : ASH700936D_M    SNOW  ( 0.0000  0.0000  0.0000)\n",
      "% ref pos   :-34.572243703 -58.439319328   50.6937\n",
      "%\n",
      "\n",
      "\n",
      "20:27:56 [INFO] Rtklib - Resolviendo vector con RTKLIB: \n",
      "20:27:56 [INFO] Rtklib - Archivo Base: proyecto/filt_igm10240.20o\n",
      "20:27:56 [INFO] Rtklib - Archivo Rotador: proyecto/splits/filt_PFD10242.20o\n",
      "20:27:56 [INFO] Rtklib - Archivo de Configuración: proyecto/conf.cfg\n",
      "                                        \n",
      "Sesión: proyecto/sesiones/igm1-PFD1-2-bw\n",
      "% program   : RTKLIB ver.2.4.3\n",
      "% inp file  : proyecto/splits/filt_PFD10242.20o\n",
      "% inp file  : proyecto/filt_igm10240.20o\n",
      "% inp file  : proyecto/igm10240.20n\n",
      "% inp file  : /proyecto/sp3/igs20896.sp3\n",
      "% inp file  : /proyecto/sp3/igs20894.sp3\n",
      "% inp file  : /proyecto/sp3/igs20895.sp3\n",
      "% obs start : 2020/01/24 21:11:45.0 GPST (week2089 508305.0s)\n",
      "% obs end   : 2020/01/24 23:48:15.0 GPST (week2089 517695.0s)\n",
      "% pos mode  : Static\n",
      "% freqs     : L1\n",
      "% solution  : Backward\n",
      "% elev mask : 10.0 deg\n",
      "% dynamics  : on\n",
      "% tidecorr  : on\n",
      "% ionos opt : OFF\n",
      "% tropo opt : Saastamoinen\n",
      "% ephemeris : Broadcast\n",
      "% navi sys  : GPS GLONASS\n",
      "% amb res   : Fix and Hold\n",
      "% amb glo   : ON\n",
      "% val thres : 3.0\n",
      "% antenna1  : NAP100          NONE  ( 0.0000  0.0000  1.3780)\n",
      "% antenna2  : ASH700936D_M    SNOW  ( 0.0000  0.0000  0.0000)\n",
      "% ref pos   :-34.572243703 -58.439319328   50.6937\n",
      "%\n",
      "\n",
      "\n"
     ]
    }
   ],
   "source": [
    "_= datos['pie'].process(datos['base'],'proyecto/conf.cfg',sp3=sp3files,nav=REFNAV)"
   ]
  },
  {
   "cell_type": "code",
   "execution_count": 26,
   "metadata": {},
   "outputs": [],
   "source": [
    "_= datos['pie'].reloadProcesed()"
   ]
  },
  {
   "cell_type": "code",
   "execution_count": 27,
   "metadata": {},
   "outputs": [
    {
     "data": {
      "text/markdown": [
       "\n",
       "## Resultados de procesamiento\n",
       "\n",
       "La posición calculada para punto de llegada del vector, punto PFD1, fue:\n",
       "\n",
       "|                 | latitud          | longitud         |   altura |\n",
       "|:----------------|:-----------------|:-----------------|---------:|\n",
       "| Sesion Completa | -34°57'14.94247\" | -58°47'31.88255\" |   36.222 |\n",
       "| Sesion 1        | -34°57'14.94278\" | -58°47'31.88279\" |   36.219 |\n",
       "| Sesion 2        | -34°57'14.94158\" | -58°47'31.88130\" |   36.259 |\n",
       "\n",
       "En coordenadas proyectadas, Gauss Krugger faja 5:\n",
       "\n",
       "|                 |        Este |       Norte |   Altura |\n",
       "|:----------------|------------:|------------:|---------:|\n",
       "| Sesion Completa | 5610323.099 | 6131793.095 |   36.222 |\n",
       "| Sesion 1        | 5610323.093 | 6131793.086 |   36.219 |\n",
       "| Sesion 2        | 5610323.131 | 6131793.122 |   36.259 |\n",
       "\n",
       "A continuación se grafica un resumen de los resultados de procesamiento.\n",
       "\n",
       "La posición horizontal se grafica, centrada en la posición final de la sesión\n",
       "completa, con dos curvas. Una curva llena que indica\n",
       "un desvío de 2$\\sigma$ --es decir que el 66% de las épocas resueltas fijas\n",
       "quedan dentro de ese perimetro-- y una punteada que indica un intervalo del\n",
       "95%.\n",
       "\n",
       "La altura se grafica con un histogramas correspondientes a cada sesión, donde\n",
       "también se grafica con un gráfico de caja y bigote la media y los cuartiles\n",
       "(que encierran el %50 de las soluciones).\n",
       "\n",
       "La posición final se puede\n",
       "[Ver en Google Maps](https://maps.google.com/maps?t=k&q=loc:-34.954150686+-58.792189597)\n",
       "para mayor comodidad\n"
      ],
      "text/plain": [
       "<IPython.core.display.Markdown object>"
      ]
     },
     "metadata": {},
     "output_type": "display_data"
    }
   ],
   "source": [
    "proceso = datos['pie']\n",
    "display(Markdown(mdpos.format(npto=PIE[:4],\n",
    "                              ptlat=report.GEOBA_final_pos(proceso,proj=None).iloc[0]['latitud'],\n",
    "                              ptlon=report.GEOBA_final_pos(proceso,proj=None).iloc[0]['longitud'],\n",
    "                              tablaGK=report.GEOBA_final_pos(proceso).to_markdown(floatfmt=\".3f\"),\n",
    "                              tablaLL=report.GEOBA_final_pos(proceso,proj='geograficas').to_markdown(floatfmt=\".3f\"))))"
   ]
  },
  {
   "cell_type": "code",
   "execution_count": 28,
   "metadata": {},
   "outputs": [
    {
     "data": {
      "image/png": "[encoded data removed]",
      "text/plain": [
       "<Figure size 432x288 with 1 Axes>"
      ]
     },
     "metadata": {
      "needs_background": "light"
     },
     "output_type": "display_data"
    },
    {
     "data": {
      "image/png": "[encoded data removed]",
      "text/plain": [
       "<Figure size 432x288 with 1 Axes>"
      ]
     },
     "metadata": {
      "needs_background": "light"
     },
     "output_type": "display_data"
    }
   ],
   "source": [
    "report.plotSessionGraphs(datos['pie'].sessData,filtro=lambda x:report.filtroGauss(report.filtroQ(x)))"
   ]
  },
  {
   "cell_type": "code",
   "execution_count": 29,
   "metadata": {},
   "outputs": [],
   "source": [
    "sitio = tosogo.parse_marker(datos['pie']._sumary)\n",
    "\n",
    "with open('/rtklib/data/ramsac.pos','a+') as f:\n",
    "    print('{latitud:13.9f} {longitud:14.9f} {altura:9.3f}  {punto}  {punto}'\\\n",
    "          .format(**report.GEOBA_final_pos(datos['pie'],proj=None).iloc[0],punto=sitio),file=f)"
   ]
  },
  {
   "cell_type": "markdown",
   "metadata": {},
   "source": [
    "# Vector de Orientación"
   ]
  },
  {
   "cell_type": "code",
   "execution_count": 30,
   "metadata": {},
   "outputs": [],
   "source": [
    "config_form2 = pyconf.formulario()"
   ]
  },
  {
   "cell_type": "code",
   "execution_count": 31,
   "metadata": {},
   "outputs": [],
   "source": [
    "pyconf.load_conf('/rtklib/confs/L1-short-bl.cfg',config_form2)"
   ]
  },
  {
   "cell_type": "code",
   "execution_count": 32,
   "metadata": {},
   "outputs": [
    {
     "data": {
      "application/vnd.jupyter.widget-view+json": {
       "model_id": "bb66d6ce35b54e469434e30c17af3a9d",
       "version_major": 2,
       "version_minor": 0
      },
      "text/plain": [
       "GridspecLayout(children=(Dropdown(description='pos1-posmode', index=3, layout=Layout(grid_area='widget001'), o…"
      ]
     },
     "metadata": {},
     "output_type": "display_data"
    }
   ],
   "source": [
    "config_form2"
   ]
  },
  {
   "cell_type": "code",
   "execution_count": 33,
   "metadata": {},
   "outputs": [],
   "source": [
    "pyconf.save_conf('/proyecto/conf2.cfg',config_form2)"
   ]
  },
  {
   "cell_type": "code",
   "execution_count": 34,
   "metadata": {},
   "outputs": [
    {
     "data": {
      "text/markdown": [
       "\n",
       "## Opciones de Procesamiento (RTKLIB)\n",
       "\n",
       "### General\n",
       "\n",
       "| Opción | valor |\n",
       "|--------|:-----:|\n",
       "|Modo de Procesamiento | static |\n",
       "|Frecuencias | l1 |\n",
       "|Modo del filtro Kallman | forward |\n",
       "|Mascara de Elevación | 10 |\n",
       "|Mascara de SNR |  |\n",
       "|Aceleración/velocidad en el filtro Kallman | on |\n",
       "|Corrección por marea terrestre | on |\n",
       "|Modo de Corrección de ionosfera | off |\n",
       "|Modo de Corrección de troposfera | saas |\n",
       "|Tipo de efemérides | brdc |\n",
       "|Excluir satelites |  |\n",
       "|Sistemas utilizados | gps |\n",
       "|Modo resolución de ambiguedad | fix-and-hold |\n",
       "|Resolver Ambiguedad Glonass (si corresponde) | on |\n",
       "|Umbral resolución de ambiguedad | 5 |\n",
       "|Minimo segmento para fijar ambiguedad | 1 |\n",
       "|Mascara de elevación para resolver ambiguedad | 10 |\n",
       "|Ciclos faltantes para resetear ambiguedad | 1 |\n",
       "|Minimo segmento para mantener ambiguedad | 10 |\n",
       "|Mascara de elevación para mantener ambiguedad | 10 |\n",
       "|Umbral para salto de ciclo | 0.05 |\n",
       "|Tipo de altura | ellipsoidal |\n",
       "\n",
       "### Parámetros del filtro Kallman\n",
       "\n",
       "| Opción | valor |\n",
       "|--------|:-----:|\n",
       "| Varianza relativa Codigo/fase | 100 |\n",
       "| Varianza fase [m] | 0.003 |\n",
       "| Varianza de fase segun elevación [m/seno(el)] | 0.003 |\n",
       "| Desvio a-priori Ambiguedades | 30 |\n",
       "| Desvio a-priori Ambiguedades retardo iono | 0.03 |\n",
       "| Desvio a-priori Ambiguedades retardo tropo | 0.3 |\n",
       "| Ruido de proceso aceleración H | 0.1 |\n",
       "| Ruido de proceso aceleración V | 0.01 |\n",
       "| Ruido de proceso ambiguedades | 0.0001 |\n",
       "| Ruido de proceso retardo ionosferico | 0.001 |\n",
       "| Ruido de proceso retardo troposferico | 0.0001 |\n",
       "| Estabilidad de reloj | 5e-12 |\n"
      ],
      "text/plain": [
       "<IPython.core.display.Markdown object>"
      ]
     },
     "metadata": {},
     "output_type": "display_data"
    }
   ],
   "source": [
    "with open('/proyecto/conf2.cfg','r') as f:\n",
    "    lines = f.readlines()\n",
    "\n",
    "params = {i.strip():j.strip() for i,j in [k.split('=') for k in lines] }\n",
    "\n",
    "display(Markdown(mdconfigs.format(**params)))"
   ]
  },
  {
   "cell_type": "markdown",
   "metadata": {},
   "source": [
    "# Procesamiento con rnx2rtkp\n",
    "\n",
    "El procesamiento fue realizado con el programa por linea de comandos de RTKlib, ```rnx2rtkp```  en dos corridas, directa ('*forward*') e invertida ('*backward*') del filtro de kallman para cada sesión.\n",
    "\n",
    "A continuación el encabezado de la salida del programa, el resto de la salida, correspondiente a los resultados, se presenta mas adelante en forma de tablas y gráficas."
   ]
  },
  {
   "cell_type": "code",
   "execution_count": 35,
   "metadata": {},
   "outputs": [
    {
     "name": "stdout",
     "output_type": "stream",
     "text": [
      "20:28:33 [INFO] Rtklib - Resolviendo vector con RTKLIB: \n",
      "20:28:33 [INFO] Rtklib - Archivo Base: proyecto/filt_PFD10240.20o\n",
      "20:28:33 [INFO] Rtklib - Archivo Rotador: proyecto/filt_PFD20240.20o\n",
      "20:28:33 [INFO] Rtklib - Archivo de Configuración: proyecto/conf2.cfg\n",
      "                                        \n",
      "Sesión: proyecto/sesiones/PFD1-PFD2-0-fw\n",
      "% program   : RTKLIB ver.2.4.3\n",
      "% inp file  : proyecto/filt_PFD20240.20o\n",
      "% inp file  : proyecto/filt_PFD10240.20o\n",
      "% inp file  : proyecto/igm10240.20n\n",
      "% inp file  : /proyecto/sp3/igs20896.sp3\n",
      "% inp file  : /proyecto/sp3/igs20894.sp3\n",
      "% inp file  : /proyecto/sp3/igs20895.sp3\n",
      "% obs start : 2020/01/24 19:37:31.0 GPST (week2089 502651.0s)\n",
      "% obs end   : 2020/01/25 00:21:47.0 GPST (week2089 519707.0s)\n",
      "% pos mode  : Static\n",
      "% freqs     : L1\n",
      "% solution  : Forward\n",
      "% elev mask : 10.0 deg\n",
      "% dynamics  : on\n",
      "% tidecorr  : on\n",
      "% ionos opt : OFF\n",
      "% tropo opt : Saastamoinen\n",
      "% ephemeris : Broadcast\n",
      "% navi sys  : GPS GLONASS\n",
      "% amb res   : Fix and Hold\n",
      "% amb glo   : ON\n",
      "% val thres : 5.0\n",
      "% antenna1  : NAP100          NONE  ( 0.0000  0.0000  1.4990)\n",
      "% antenna2  : NAP100          NONE  ( 0.0000  0.0000  1.3780)\n",
      "% ref pos   :-34.954150686 -58.792189597   36.2220\n",
      "%\n",
      "\n",
      "\n",
      "20:29:01 [INFO] Rtklib - Resolviendo vector con RTKLIB: \n",
      "20:29:01 [INFO] Rtklib - Archivo Base: proyecto/filt_PFD10240.20o\n",
      "20:29:01 [INFO] Rtklib - Archivo Rotador: proyecto/filt_PFD20240.20o\n",
      "20:29:01 [INFO] Rtklib - Archivo de Configuración: proyecto/conf2.cfg\n",
      "                                        \n",
      "Sesión: proyecto/sesiones/PFD1-PFD2-0-bw\n",
      "% program   : RTKLIB ver.2.4.3\n",
      "% inp file  : proyecto/filt_PFD20240.20o\n",
      "% inp file  : proyecto/filt_PFD10240.20o\n",
      "% inp file  : proyecto/igm10240.20n\n",
      "% inp file  : /proyecto/sp3/igs20896.sp3\n",
      "% inp file  : /proyecto/sp3/igs20894.sp3\n",
      "% inp file  : /proyecto/sp3/igs20895.sp3\n",
      "% obs start : 2020/01/24 19:37:31.0 GPST (week2089 502651.0s)\n",
      "% obs end   : 2020/01/25 00:21:47.0 GPST (week2089 519707.0s)\n",
      "% pos mode  : Static\n",
      "% freqs     : L1\n",
      "% solution  : Backward\n",
      "% elev mask : 10.0 deg\n",
      "% dynamics  : on\n",
      "% tidecorr  : on\n",
      "% ionos opt : OFF\n",
      "% tropo opt : Saastamoinen\n",
      "% ephemeris : Broadcast\n",
      "% navi sys  : GPS GLONASS\n",
      "% amb res   : Fix and Hold\n",
      "% amb glo   : ON\n",
      "% val thres : 5.0\n",
      "% antenna1  : NAP100          NONE  ( 0.0000  0.0000  1.4990)\n",
      "% antenna2  : NAP100          NONE  ( 0.0000  0.0000  1.3780)\n",
      "% ref pos   :-34.954150686 -58.792189597   36.2220\n",
      "%\n",
      "\n",
      "\n",
      "20:29:31 [INFO] Rtklib - Resolviendo vector con RTKLIB: \n",
      "20:29:31 [INFO] Rtklib - Archivo Base: proyecto/filt_PFD10240.20o\n",
      "20:29:31 [INFO] Rtklib - Archivo Rotador: proyecto/splits/filt_PFD20241.20o\n",
      "20:29:31 [INFO] Rtklib - Archivo de Configuración: proyecto/conf2.cfg\n",
      "                                        \n",
      "Sesión: proyecto/sesiones/PFD1-PFD2-1-fw\n",
      "% program   : RTKLIB ver.2.4.3\n",
      "% inp file  : proyecto/splits/filt_PFD20241.20o\n",
      "% inp file  : proyecto/filt_PFD10240.20o\n",
      "% inp file  : proyecto/igm10240.20n\n",
      "% inp file  : /proyecto/sp3/igs20896.sp3\n",
      "% inp file  : /proyecto/sp3/igs20894.sp3\n",
      "% inp file  : /proyecto/sp3/igs20895.sp3\n",
      "% obs start : 2020/01/24 19:37:31.0 GPST (week2089 502651.0s)\n",
      "% obs end   : 2020/01/24 21:59:39.0 GPST (week2089 511179.0s)\n",
      "% pos mode  : Static\n",
      "% freqs     : L1\n",
      "% solution  : Forward\n",
      "% elev mask : 10.0 deg\n",
      "% dynamics  : on\n",
      "% tidecorr  : on\n",
      "% ionos opt : OFF\n",
      "% tropo opt : Saastamoinen\n",
      "% ephemeris : Broadcast\n",
      "% navi sys  : GPS GLONASS\n",
      "% amb res   : Fix and Hold\n",
      "% amb glo   : ON\n",
      "% val thres : 5.0\n",
      "% antenna1  : NAP100          NONE  ( 0.0000  0.0000  1.4990)\n",
      "% antenna2  : NAP100          NONE  ( 0.0000  0.0000  1.3780)\n",
      "% ref pos   :-34.954150686 -58.792189597   36.2220\n",
      "%\n",
      "\n",
      "\n",
      "20:29:48 [INFO] Rtklib - Resolviendo vector con RTKLIB: \n",
      "20:29:48 [INFO] Rtklib - Archivo Base: proyecto/filt_PFD10240.20o\n",
      "20:29:48 [INFO] Rtklib - Archivo Rotador: proyecto/splits/filt_PFD20241.20o\n",
      "20:29:48 [INFO] Rtklib - Archivo de Configuración: proyecto/conf2.cfg\n",
      "                                        \n",
      "Sesión: proyecto/sesiones/PFD1-PFD2-1-bw\n",
      "% program   : RTKLIB ver.2.4.3\n",
      "% inp file  : proyecto/splits/filt_PFD20241.20o\n",
      "% inp file  : proyecto/filt_PFD10240.20o\n",
      "% inp file  : proyecto/igm10240.20n\n",
      "% inp file  : /proyecto/sp3/igs20896.sp3\n",
      "% inp file  : /proyecto/sp3/igs20894.sp3\n",
      "% inp file  : /proyecto/sp3/igs20895.sp3\n",
      "% obs start : 2020/01/24 19:37:31.0 GPST (week2089 502651.0s)\n",
      "% obs end   : 2020/01/24 21:59:39.0 GPST (week2089 511179.0s)\n",
      "% pos mode  : Static\n",
      "% freqs     : L1\n",
      "% solution  : Backward\n",
      "% elev mask : 10.0 deg\n",
      "% dynamics  : on\n",
      "% tidecorr  : on\n",
      "% ionos opt : OFF\n",
      "% tropo opt : Saastamoinen\n",
      "% ephemeris : Broadcast\n",
      "% navi sys  : GPS GLONASS\n",
      "% amb res   : Fix and Hold\n",
      "% amb glo   : ON\n",
      "% val thres : 5.0\n",
      "% antenna1  : NAP100          NONE  ( 0.0000  0.0000  1.4990)\n",
      "% antenna2  : NAP100          NONE  ( 0.0000  0.0000  1.3780)\n",
      "% ref pos   :-34.954150686 -58.792189597   36.2220\n",
      "%\n",
      "\n",
      "\n",
      "20:30:04 [INFO] Rtklib - Resolviendo vector con RTKLIB: \n",
      "20:30:04 [INFO] Rtklib - Archivo Base: proyecto/filt_PFD10240.20o\n",
      "20:30:04 [INFO] Rtklib - Archivo Rotador: proyecto/splits/filt_PFD20242.20o\n",
      "20:30:04 [INFO] Rtklib - Archivo de Configuración: proyecto/conf2.cfg\n",
      "                                        \n",
      "Sesión: proyecto/sesiones/PFD1-PFD2-2-fw\n",
      "% program   : RTKLIB ver.2.4.3\n",
      "% inp file  : proyecto/splits/filt_PFD20242.20o\n",
      "% inp file  : proyecto/filt_PFD10240.20o\n",
      "% inp file  : proyecto/igm10240.20n\n",
      "% inp file  : /proyecto/sp3/igs20896.sp3\n",
      "% inp file  : /proyecto/sp3/igs20894.sp3\n",
      "% inp file  : /proyecto/sp3/igs20895.sp3\n",
      "% obs start : 2020/01/24 21:59:39.0 GPST (week2089 511179.0s)\n",
      "% obs end   : 2020/01/25 00:21:47.0 GPST (week2089 519707.0s)\n",
      "% pos mode  : Static\n",
      "% freqs     : L1\n",
      "% solution  : Forward\n",
      "% elev mask : 10.0 deg\n",
      "% dynamics  : on\n",
      "% tidecorr  : on\n",
      "% ionos opt : OFF\n",
      "% tropo opt : Saastamoinen\n",
      "% ephemeris : Broadcast\n",
      "% navi sys  : GPS GLONASS\n",
      "% amb res   : Fix and Hold\n",
      "% amb glo   : ON\n",
      "% val thres : 5.0\n",
      "% antenna1  : NAP100          NONE  ( 0.0000  0.0000  1.4990)\n",
      "% antenna2  : NAP100          NONE  ( 0.0000  0.0000  1.3780)\n",
      "% ref pos   :-34.954150686 -58.792189597   36.2220\n",
      "%\n",
      "\n",
      "\n",
      "20:30:18 [INFO] Rtklib - Resolviendo vector con RTKLIB: \n",
      "20:30:18 [INFO] Rtklib - Archivo Base: proyecto/filt_PFD10240.20o\n",
      "20:30:18 [INFO] Rtklib - Archivo Rotador: proyecto/splits/filt_PFD20242.20o\n",
      "20:30:18 [INFO] Rtklib - Archivo de Configuración: proyecto/conf2.cfg\n",
      "                                        \n",
      "Sesión: proyecto/sesiones/PFD1-PFD2-2-bw\n",
      "% program   : RTKLIB ver.2.4.3\n",
      "% inp file  : proyecto/splits/filt_PFD20242.20o\n",
      "% inp file  : proyecto/filt_PFD10240.20o\n",
      "% inp file  : proyecto/igm10240.20n\n",
      "% inp file  : /proyecto/sp3/igs20896.sp3\n",
      "% inp file  : /proyecto/sp3/igs20894.sp3\n",
      "% inp file  : /proyecto/sp3/igs20895.sp3\n",
      "% obs start : 2020/01/24 21:59:39.0 GPST (week2089 511179.0s)\n",
      "% obs end   : 2020/01/25 00:21:47.0 GPST (week2089 519707.0s)\n",
      "% pos mode  : Static\n",
      "% freqs     : L1\n",
      "% solution  : Backward\n",
      "% elev mask : 10.0 deg\n",
      "% dynamics  : on\n",
      "% tidecorr  : on\n",
      "% ionos opt : OFF\n",
      "% tropo opt : Saastamoinen\n",
      "% ephemeris : Broadcast\n",
      "% navi sys  : GPS GLONASS\n",
      "% amb res   : Fix and Hold\n",
      "% amb glo   : ON\n",
      "% val thres : 5.0\n",
      "% antenna1  : NAP100          NONE  ( 0.0000  0.0000  1.4990)\n",
      "% antenna2  : NAP100          NONE  ( 0.0000  0.0000  1.3780)\n",
      "% ref pos   :-34.954150686 -58.792189597   36.2220\n",
      "%\n",
      "\n",
      "\n"
     ]
    }
   ],
   "source": [
    "_= datos['azimut'].process(datos['pie'],'proyecto/conf2.cfg',sp3=sp3files,nav=REFNAV)"
   ]
  },
  {
   "cell_type": "code",
   "execution_count": 36,
   "metadata": {},
   "outputs": [],
   "source": [
    "_= datos['azimut'].reloadProcesed()"
   ]
  },
  {
   "cell_type": "code",
   "execution_count": 37,
   "metadata": {},
   "outputs": [
    {
     "data": {
      "text/markdown": [
       "\n",
       "## Resultados de procesamiento\n",
       "\n",
       "La posición calculada para punto de llegada del vector, punto PFD1, fue:\n",
       "\n",
       "|                 | latitud          | longitud         |   altura |\n",
       "|:----------------|:-----------------|:-----------------|---------:|\n",
       "| Sesion Completa | -34°56'45.40044\" | -58°46'58.71314\" |   40.217 |\n",
       "| Sesion 1        | -34°56'45.40046\" | -58°46'58.71317\" |   40.216 |\n",
       "| Sesion 2        | -34°56'45.40029\" | -58°46'58.71307\" |   40.215 |\n",
       "\n",
       "En coordenadas proyectadas, Gauss Krugger faja 5:\n",
       "\n",
       "|                 |        Este |       Norte |   Altura |\n",
       "|:----------------|------------:|------------:|---------:|\n",
       "| Sesion Completa | 5611175.818 | 6132693.346 |   40.217 |\n",
       "| Sesion 1        | 5611175.817 | 6132693.345 |   40.216 |\n",
       "| Sesion 2        | 5611175.820 | 6132693.350 |   40.215 |\n",
       "\n",
       "A continuación se grafica un resumen de los resultados de procesamiento.\n",
       "\n",
       "La posición horizontal se grafica, centrada en la posición final de la sesión\n",
       "completa, con dos curvas. Una curva llena que indica\n",
       "un desvío de 2$\\sigma$ --es decir que el 66% de las épocas resueltas fijas\n",
       "quedan dentro de ese perimetro-- y una punteada que indica un intervalo del\n",
       "95%.\n",
       "\n",
       "La altura se grafica con un histogramas correspondientes a cada sesión, donde\n",
       "también se grafica con un gráfico de caja y bigote la media y los cuartiles\n",
       "(que encierran el %50 de las soluciones).\n",
       "\n",
       "La posición final se puede\n",
       "[Ver en Google Maps](https://maps.google.com/maps?t=k&q=loc:-34.945944568+-58.782975871)\n",
       "para mayor comodidad\n"
      ],
      "text/plain": [
       "<IPython.core.display.Markdown object>"
      ]
     },
     "metadata": {},
     "output_type": "display_data"
    }
   ],
   "source": [
    "proceso = datos['azimut']\n",
    "display(Markdown(mdpos.format(npto=PIE[:4],\n",
    "                              ptlat=report.GEOBA_final_pos(proceso,proj=None).iloc[0]['latitud'],\n",
    "                              ptlon=report.GEOBA_final_pos(proceso,proj=None).iloc[0]['longitud'],\n",
    "                              tablaGK=report.GEOBA_final_pos(proceso).to_markdown(floatfmt=\".3f\"),\n",
    "                              tablaLL=report.GEOBA_final_pos(proceso,proj='geograficas').to_markdown(floatfmt=\".3f\"))))"
   ]
  },
  {
   "cell_type": "code",
   "execution_count": 38,
   "metadata": {},
   "outputs": [
    {
     "data": {
      "image/png": "[encoded data removed]",
      "text/plain": [
       "<Figure size 432x288 with 1 Axes>"
      ]
     },
     "metadata": {
      "needs_background": "light"
     },
     "output_type": "display_data"
    },
    {
     "data": {
      "image/png": "[encoded data removed]",
      "text/plain": [
       "<Figure size 432x288 with 1 Axes>"
      ]
     },
     "metadata": {
      "needs_background": "light"
     },
     "output_type": "display_data"
    }
   ],
   "source": [
    "report.plotSessionGraphs(datos['azimut'].sessData,filtro=lambda x:report.filtroGauss(report.filtroQ(x)))"
   ]
  },
  {
   "cell_type": "code",
   "execution_count": 70,
   "metadata": {},
   "outputs": [],
   "source": [
    "pd.DataFrame({tosogo.parse_marker(datos[i]._sumary):report.finalPOS(datos[i])\\\n",
    "              for i in ('base','pie','azimut')}).to_csv('Resultados.csv')"
   ]
  },
  {
   "cell_type": "code",
   "execution_count": null,
   "metadata": {},
   "outputs": [],
   "source": []
  }
 ],
 "metadata": {
  "kernelspec": {
   "display_name": "Python 3",
   "language": "python",
   "name": "python3"
  },
  "language_info": {
   "codemirror_mode": {
    "name": "ipython",
    "version": 3
   },
   "file_extension": ".py",
   "mimetype": "text/x-python",
   "name": "python",
   "nbconvert_exporter": "python",
   "pygments_lexer": "ipython3",
   "version": "3.9.2"
  }
 },
 "nbformat": 4,
 "nbformat_minor": 4
}
