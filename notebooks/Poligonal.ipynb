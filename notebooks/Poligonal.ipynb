{
 "cells": [
  {
   "cell_type": "code",
   "execution_count": 1,
   "id": "9644a826-6c51-41b8-aa98-03a2a189f1b6",
   "metadata": {},
   "outputs": [],
   "source": [
    "import pandas as pd\n",
    "import numpy as np\n",
    "from IPython.display import Markdown\n",
    "import subprocess as sp"
   ]
  },
  {
   "cell_type": "markdown",
   "id": "16ae0c24-7733-4253-9906-6ee91a0135ad",
   "metadata": {},
   "source": [
    "## Cómputo de la poligonal auxiliar"
   ]
  },
  {
   "cell_type": "code",
   "execution_count": 2,
   "id": "55e8ca7e-a6ef-4d31-842c-e1d4934464d9",
   "metadata": {},
   "outputs": [],
   "source": [
    "BASE = 'IGM1'\n",
    "POLIGONAL = './poligonal.csv'\n",
    "COORDENADAS = './Resultados.csv'"
   ]
  },
  {
   "cell_type": "code",
   "execution_count": 3,
   "id": "a47b1af1-cdfe-44ed-a8a0-b3d61cec0b7f",
   "metadata": {},
   "outputs": [],
   "source": [
    "verticesdf = pd.read_csv(POLIGONAL,index_col=0)"
   ]
  },
  {
   "cell_type": "code",
   "execution_count": 4,
   "id": "b8ec88d4-ac0a-4a2c-a3dd-0204a258d46b",
   "metadata": {},
   "outputs": [],
   "source": [
    "vertices = [*verticesdf.index]"
   ]
  },
  {
   "cell_type": "code",
   "execution_count": 5,
   "id": "f846d9df-c426-4f0c-89b3-774f41658d00",
   "metadata": {},
   "outputs": [],
   "source": [
    "from numbers import Number\n",
    "from typing import Tuple\n",
    "from math import floor\n",
    "\n",
    "def dms2deg(dms:Tuple[int,int,float]) -> float:\n",
    "    d: int\n",
    "    m: int\n",
    "    s: float\n",
    "\n",
    "    d,m,s = dms    \n",
    "\n",
    "    return d + m/60. + s/3600.\n",
    "\n",
    "def deg2dms(deg:Number) -> Tuple[int,int,float]:\n",
    "    d: int\n",
    "    m: int\n",
    "    s: float\n",
    "\n",
    "    side: int = -1 if deg < 0 else 1\n",
    "    deg = abs(deg)\n",
    "    d = floor(deg)\n",
    "    _m = deg - d\n",
    "    _m *= 60\n",
    "    m = floor(_m)\n",
    "    _s = _m - m\n",
    "    _s *= 60\n",
    "    s = _s\n",
    "\n",
    "    return d*side, m, s\n",
    "\n",
    "def check_angulos(listado):\n",
    "    d,m,s = (sum(map(round,i)) for i in zip(*listado))\n",
    "    return d+(m+s/60)/60\n",
    "\n",
    "def azimsum(d1,m1,s1,d2,m2,s2):\n",
    "    dd_ = d1+d2\n",
    "    mm_ = m1+m2\n",
    "    ss_ = s1+s2\n",
    "    ss = ss_ % 60\n",
    "    mm_ += ss_ // 60\n",
    "    mm = mm_ % 60\n",
    "    dd_ += mm_ // 60\n",
    "    dd = dda if (dda := dd_ + 180) < 360 else dd_ - 180\n",
    "    \n",
    "    return dd,mm,ss\n",
    "\n",
    "def azTotuple(st):\n",
    "    return tuple([int(i) for i in st.replace('°',' ').replace('\\\"',' ').replace('\\'',' ').split()])\n",
    "\n",
    "def tupleToAz(tupla):\n",
    "    return '{}°{}\\'{:.0f}\\\"'.format(*tupla)\n",
    "\n",
    "def tupleToLat(tupla):\n",
    "    return '{}°{}\\'{:.5f}\\\" {}'.format(*tupla,'S' if tupla[0] < 0 else 'N').strip('-')\n",
    "\n",
    "def tupleToLon(tupla):\n",
    "    return '{}°{}\\'{:.5f}\\\" {}'.format(*tupla,'O' if tupla[0] < 0 else 'E').strip('-')"
   ]
  },
  {
   "cell_type": "code",
   "execution_count": 6,
   "id": "20da4856-06e4-4003-8f53-c07256c65d7f",
   "metadata": {},
   "outputs": [],
   "source": [
    "COORDRENAMES={'latitud':'Latitud','longitud':'Longitud',\n",
    "                               'lat':'Latitud','lon':'Longitud','long':'Longitud',\n",
    "                               'Lat':'Latitud','Lon':'Longitud','Long':'Longitud',\n",
    "                               'latitude':'Latitud','longitude':'Longitud',\n",
    "                               'az':'Azimut','azimut':'Azimut'\n",
    "                              }\n",
    "def get_dist(salida,llegada,pl):\n",
    "    if (mask := (pl.Llegada == llegada) & (pl.Partida == salida)).any():\n",
    "        return pl.loc[mask,'Distancia'].values[0]\n",
    "    else:\n",
    "        mask = (pl.Llegada == salida) & (pl.Partida == llegada)\n",
    "        return pl.loc[mask,'Distancia'].values[0]\n",
    "\n",
    "def get_az(salida,llegada,pl):\n",
    "    if (mask := (pl.Llegada == llegada) & (pl.Partida == salida)).any():\n",
    "        return dms2deg(azTotuple(pl.loc[mask,'Azimut'].values[0]))\n",
    "    else:\n",
    "        mask = (pl.Llegada == salida) & (pl.Partida == llegada)\n",
    "        az = pl.loc[mask,'Azimut'].values[0] \n",
    "        return dms2deg(azimsum(*azTotuple(az),0,0,0))\n",
    "    \n",
    "def tabla_geod(vectorGNSS,vertices,planilla):\n",
    "    vector1 = {'Partida':vertices[0],\n",
    "               'Llegada':vertices[1],\n",
    "              }\n",
    "    partida1 = {**vectorGNSS.loc[['latitud','longitud'],vector1['Partida']]\n",
    "               }\n",
    "    datos1 = {\n",
    "        'Azimut': get_az(vector1['Partida'],vector1['Llegada'],planilla),\n",
    "        'Distancia': get_dist(vector1['Partida'],vector1['Llegada'],planilla)\n",
    "    }\n",
    "    vector2 = {'Partida':vertices[-1],\n",
    "               'Llegada':vertices[-2],\n",
    "              }\n",
    "    partida2 = {**vectorGNSS.loc[['latitud','longitud'],vector2['Partida']]\n",
    "               }\n",
    "    datos2 = {\n",
    "        'Azimut': get_az(vector2['Partida'],vector2['Llegada'],planilla),\n",
    "        'Distancia': get_dist(vector2['Partida'],vector2['Llegada'],planilla)\n",
    "    }\n",
    "    df = pd.DataFrame([{**vector1,**partida1,**datos1},{**vector2,**partida2,**datos2}])\n",
    "    df = df.rename(columns={i:i[0].upper()+i[1:] for i in df.columns}).T\\\n",
    "           .reindex('Partida,Latitud,Longitud,Azimut,Distancia,Llegada'.split(',')).T\n",
    "    return df \n",
    "\n",
    "def formatcoords(df):\n",
    "    df = df.rename(columns=COORDRENAMES)\n",
    "    try: df.Latitud = df.Latitud.apply(lambda x: tupleToLat(deg2dms(x)))\n",
    "    except AttributeError: pass\n",
    "    try: df.Longitud = df.Longitud.apply(lambda x: tupleToLon(deg2dms(x)))\n",
    "    except AttributeError: pass\n",
    "    try: df.Azimut = df.Azimut.apply(lambda x: tupleToAz(deg2dms(x)))\n",
    "    except AttributeError: pass\n",
    "    \n",
    "    return df"
   ]
  },
  {
   "cell_type": "code",
   "execution_count": 58,
   "id": "ea6df251-afe6-4ea0-b0a4-c7aba2718ea9",
   "metadata": {},
   "outputs": [],
   "source": [
    "(rollvert := vertices.copy()).append(rollvert.pop(0)) #Version rotada de los vertices\n",
    "(rollvertr := vertices.copy()).insert(0,rollvertr.pop()) #Version rotada al reves\n",
    "\n",
    "lados = np.roll(verticesdf.values,-1,axis=0) - verticesdf.values\n",
    "ladosdf = pd.DataFrame((lados**2).sum(axis=-1)**0.5,index=[*zip(vertices,rollvert) ],columns=['distancia'])\n",
    "\n",
    "Markdown(ladosdf.to_markdown(floatfmt='.3f'))\n",
    "\n",
    "ladosdfsim = pd.DataFrame({**{ix[::-1]:v for ix,v in ladosdf.iterrows()},**{ix:v for ix,v in ladosdf.iterrows()}}).T\n",
    "\n",
    "#Markdown(ladosdfsim.to_markdown(floatfmt='.3f'))"
   ]
  },
  {
   "cell_type": "code",
   "execution_count": 59,
   "id": "a7d307ce-de0f-4e1a-b00c-894287b77faa",
   "metadata": {},
   "outputs": [],
   "source": [
    "orientaciones = np.arctan2(*lados.T)\n",
    "orientaciones0a2pi = np.array([i if (j:= i + 2*np.pi) > 2*np.pi else j for i in orientaciones])\n",
    "\n",
    "angulos = (np.pi - np.roll(orientaciones0a2pi,1)) + orientaciones0a2pi\n",
    "angulosDMS = [(i if i < 360 else i-360, j, k) for i,j,k in [deg2dms(np.degrees(i)) for i in angulos]]\n",
    "\n",
    "check_angulos(angulosDMS)\n",
    "\n",
    "angulosdf = pd.DataFrame(angulosDMS,index=[*zip(rollvertr,vertices,rollvert)],columns=['d','m','s.ss'])\n",
    "\n",
    "angulosdfsim = pd.DataFrame({**{ix[::-1]:v for ix,v in angulosdf.iterrows()},**{ix:v for ix,v in angulosdf.iterrows()}}).T\n",
    "\n",
    "#Markdown(angulosdfsim.to_markdown(floatfmt='.0f'))"
   ]
  },
  {
   "cell_type": "code",
   "execution_count": 9,
   "id": "193b9ad5-5058-4b31-be3d-31d88dde114b",
   "metadata": {},
   "outputs": [],
   "source": [
    "vectorGNSS = pd.read_csv(COORDENADAS,index_col=0)"
   ]
  },
  {
   "cell_type": "code",
   "execution_count": 11,
   "id": "4eedfd2c-266d-4494-ba58-23c673674a3a",
   "metadata": {},
   "outputs": [],
   "source": [
    "mdIntro = \"\"\"\n",
    "# Medición auxiliar\n",
    "\n",
    "Debido a que los vertices de la mensura no presentan condiciones favorables para la medición GPS\n",
    "se procedió a vincular un vector auxiliar ({v1}-{v2}), que se vinculó a los vertices de mensura\n",
    "mediante la medición de una poligonal con instrumental topográfico.\n",
    "\n",
    "A partír de la resolución del problema geodésico inverso se calcularon los parámetros \n",
    "de los vectores medidos con GNSS\n",
    "\n",
    "{tabla1}\n",
    "\n",
    "{tabla2}\n",
    "\n",
    "La poligonal medida se inicia sobre el lado {v2}-{v1}\n",
    "\n",
    "\"\"\""
   ]
  },
  {
   "cell_type": "code",
   "execution_count": 12,
   "id": "d2642f46-aab4-415e-9922-f0b2276550c4",
   "metadata": {},
   "outputs": [],
   "source": [
    "#+BEGIN_SRC bash :results table :exports none\n",
    "\n",
    "inp=\"{latitud} {longitud} \".format(**vectorGNSS[BASE])+\"{latitud} {longitud}\".format(**vectorGNSS[vertices[0]])\n",
    "\n",
    "pInvLargo = sp.check_output(['geod', '-I', '-p', '+ellps=GRS80'],input=inp.encode())\\\n",
    "                            .decode().replace('d','°').split()\n",
    "pInvLdf = pd.DataFrame([pInvLargo],\n",
    "                          columns=['Azimut Directo','Azimut Inverso','Distancia'],\n",
    "                          index = [f'{BASE}-{vertices[0]}'])\n",
    "\n",
    "coords=\"{latitud} {longitud} \".format(**vectorGNSS[vertices[0]])+\"{latitud} {longitud}\".format(**vectorGNSS[vertices[-1]])\n",
    "pInvCorto = sp.check_output(['geod', '-I', '-p', '+ellps=GRS80'],input=coords.encode())\\\n",
    "                            .decode().replace('d','°').split()\n",
    "pInvCdf = pd.DataFrame([pInvCorto],\n",
    "                          columns=['Azimut Directo','Azimut Inverso','Distancia'],\n",
    "                          index = [f'{vertices[0]}-{vertices[-1]}'])\n"
   ]
  },
  {
   "cell_type": "code",
   "execution_count": 13,
   "id": "26772482-8341-492c-a6c1-9a664072969d",
   "metadata": {},
   "outputs": [
    {
     "data": {
      "text/markdown": [
       "\n",
       "# Medición auxiliar\n",
       "\n",
       "Debido a que los vertices de la mensura no presentan condiciones favorables para la medición GPS\n",
       "se procedió a vincular un vector auxiliar (PFD1-PFD2), que se vinculó a los vertices de mensura\n",
       "mediante la medición de una poligonal con instrumental topográfico.\n",
       "\n",
       "A partír de la resolución del problema geodésico inverso se calcularon los parámetros \n",
       "de los vectores medidos con GNSS\n",
       "\n",
       "|           | Azimut Directo   | Azimut Inverso   |   Distancia |\n",
       "|:----------|:-----------------|:-----------------|------------:|\n",
       "| IGM1-PFD1 | 217°13'31.19\"    | 37°25'35.522\"    |   53278.694 |\n",
       "\n",
       "|           | Azimut Directo   | Azimut Inverso   |   Distancia |\n",
       "|:----------|:-----------------|:-----------------|------------:|\n",
       "| PFD1-PFD2 | 42°45'17.412\"    | 222°44'58.411\"   |    1239.804 |\n",
       "\n",
       "La poligonal medida se inicia sobre el lado PFD2-PFD1\n",
       "\n"
      ],
      "text/plain": [
       "<IPython.core.display.Markdown object>"
      ]
     },
     "execution_count": 13,
     "metadata": {},
     "output_type": "execute_result"
    }
   ],
   "source": [
    "\n",
    "parms = {\n",
    "    'v1': vertices[0],\n",
    "    'v2': vertices[-1],\n",
    "    'tabla1': pInvLdf.to_markdown(floatfmt='.3f'),\n",
    "    'tabla2': pInvCdf.to_markdown(floatfmt='.3f')\n",
    "}\n",
    "Markdown(mdIntro.format(**parms))"
   ]
  },
  {
   "cell_type": "code",
   "execution_count": 16,
   "id": "830e8bc3-a5f8-4336-b306-af57e9ec13bc",
   "metadata": {},
   "outputs": [],
   "source": [
    "azts = [tuple(i.replace('°',' ').replace('\\\"',' ').replace('\\'',' ').split()) for i in pInvCorto[:2]]\n",
    "etq = [('PFD1','PFD2'),('PFD2','PFD1')]\n",
    "azimutdict = {i:(int(j[0]),int(j[1]),float(j[2])) for i,j in zip(etq,azts)}"
   ]
  },
  {
   "cell_type": "code",
   "execution_count": 17,
   "id": "9665ba45-7b7e-41d8-9116-0f528d164d0e",
   "metadata": {},
   "outputs": [],
   "source": [
    "previo = None\n",
    "este = vertices[-1]\n",
    "planilla=[]\n",
    "\n",
    "for proximo in [*vertices,vertices[0]]:\n",
    "    #print(previo,este,proximo)\n",
    "    if previo is None:\n",
    "        angulo = None\n",
    "        az = azimutdict[(este,proximo)]\n",
    "    else:\n",
    "        angulo = angulosdfsim.xs((previo,este,proximo))\n",
    "        az = azimsum(*azimutdict[(previo,este)],*angulo)\n",
    "        azimutdict[(este,proximo)] = az\n",
    "\n",
    "    planilla.append([este,('{:.0f}°{:.0f}\\'{:.0f}\\\"'.format(*angulo) if not angulo is None else ''),'{:.0f}°{:.0f}\\'{:.0f}\\\"'.format(*az),ladosdfsim.loc[(este,proximo)].iloc[0],proximo])\n",
    "\n",
    "    previo = este\n",
    "    este = proximo\n",
    "    \n",
    "poligonal= pd.DataFrame(planilla,columns='Partida Angulo Azimut Distancia Llegada'.split())\n",
    "\n",
    "problemasGeod=tabla_geod(vectorGNSS,vertices,poligonal)"
   ]
  },
  {
   "cell_type": "code",
   "execution_count": 18,
   "id": "39f6fef6-a35c-4e05-805f-df99b900f245",
   "metadata": {},
   "outputs": [],
   "source": [
    "mdPoligonal =\"\"\"\n",
    "\n",
    "La poligonal medida y compensada está expresada en la tabla que sigue. A partir\n",
    "de estos valores, se calcularon las coordenadas de los puntos {v1} y {v2} resolviendo\n",
    "el problema geodésico directo.\n",
    "\n",
    "{tabla_1}\n",
    "\n",
    "El planteo del Problema geodésico queda expresado como sigue.\n",
    "\n",
    "{tabla_2}\n",
    "\"\"\""
   ]
  },
  {
   "cell_type": "code",
   "execution_count": 19,
   "id": "c057b7a6-ef67-4b5d-933e-b62c6cadc2d0",
   "metadata": {
    "tags": []
   },
   "outputs": [
    {
     "data": {
      "text/markdown": [
       "\n",
       "\n",
       "La poligonal medida y compensada está expresada en la tabla que sigue. A partir\n",
       "de estos valores, se calcularon las coordenadas de los puntos I y PFD1 resolviendo\n",
       "el problema geodésico directo.\n",
       "\n",
       "| Partida   | Angulo     | Azimut     |   Distancia | Llegada   |\n",
       "|:----------|:-----------|:-----------|------------:|:----------|\n",
       "| PFD2      |            | 222°44'58\" |    1239.805 | PFD1      |\n",
       "| PFD1      | 124°50'56\" | 167°35'54\" |      11.366 | I         |\n",
       "| I         | 54°43'17\"  | 42°19'11\"  |    1146.287 | H         |\n",
       "| H         | 180°0'45\"  | 42°19'56\"  |     100.047 | PFD2      |\n",
       "| PFD2      | 0°25'2\"    | 222°44'58\" |    1239.805 | PFD1      |\n",
       "\n",
       "El planteo del Problema geodésico queda expresado como sigue.\n",
       "\n",
       "| Partida   | Latitud           | Longitud          | Azimut     |   Distancia | Llegada   |\n",
       "|:----------|:------------------|:------------------|:-----------|------------:|:----------|\n",
       "| PFD1      | 34°57'14.94247\" S | 58°47'31.88255\" O | 167°35'54\" |      11.366 | I         |\n",
       "| PFD2      | 34°56'45.40044\" S | 58°46'58.71314\" O | 222°19'56\" |     100.047 | H         |\n"
      ],
      "text/plain": [
       "<IPython.core.display.Markdown object>"
      ]
     },
     "execution_count": 19,
     "metadata": {},
     "output_type": "execute_result"
    }
   ],
   "source": [
    "parms = {\n",
    "    'v1':vertices[1],\n",
    "    'v2':vertices[0],\n",
    "    'tabla_1': poligonal.to_markdown(floatfmt='.3f',index=False),\n",
    "    'tabla_2': formatcoords(problemasGeod).to_markdown(floatfmt='.3f',index=False)\n",
    "}\n",
    "\n",
    "Markdown(mdPoligonal.format(**parms))"
   ]
  },
  {
   "cell_type": "code",
   "execution_count": 20,
   "id": "express-salvation",
   "metadata": {},
   "outputs": [],
   "source": [
    "inp = \"\"\"% {Llegada}\n",
    "{Latitud} {Longitud} {Azimut} {Distancia}\n",
    "\"\"\".format(**problemasGeod.iloc[0])+\"\"\"% {Llegada}\n",
    "{Latitud} {Longitud} {Azimut} {Distancia}\n",
    "\"\"\".format(**problemasGeod.iloc[1])\n",
    "          \n",
    "pDir = sp.check_output(['geod', '-t%', '-p','-f','%.10f', '+ellps=GRS80'],input=inp.encode())\\\n",
    "                            .decode().replace('d','°').replace('%','').strip().split('\\n')\n",
    "it1 = iter([*map(lambda x: x.split(),pDir)])\n",
    "pDirDF = pd.DataFrame([[*i,*j] for i,j in zip(it1,it1)],\n",
    "                          columns=['Punto','Latitud','Longitud','Azimut']).\\\n",
    "                          set_index(['Punto']).drop(columns=[\"Azimut\"])\n",
    "\n",
    "#Encabezado\n",
    "#!echo Latitud,Longitud,Azimut-Regreso\n",
    "#Problema geodesico inverso\n",
    "#!geod -t% -p -w5 +ellps=GRS80 << EOF | tr '\\t' ',' {inp}\n"
   ]
  },
  {
   "cell_type": "code",
   "execution_count": 21,
   "id": "1c139f36-1aaf-4564-ba50-33077f15df3e",
   "metadata": {},
   "outputs": [],
   "source": [
    "mdDirecto = \"\"\"\n",
    "El resultado del calculo del problema directo nos da las coordenadas \n",
    "geográficas de los vértices A y D de la mensura, las cuales se proyectarán\n",
    "luego al sistema Gauss-Krügger en faja 5.\n",
    "\n",
    "{tabla}\n",
    "\"\"\"\n"
   ]
  },
  {
   "cell_type": "code",
   "execution_count": 22,
   "id": "8e422c90-df6f-43c4-b619-acc712c130f7",
   "metadata": {},
   "outputs": [
    {
     "data": {
      "text/markdown": [
       "\n",
       "El resultado del calculo del problema directo nos da las coordenadas \n",
       "geográficas de los vértices A y D de la mensura, las cuales se proyectarán\n",
       "luego al sistema Gauss-Krügger en faja 5.\n",
       "\n",
       "| Punto   |   Latitud |   Longitud |\n",
       "|:--------|----------:|-----------:|\n",
       "| I       |  -34.9543 |   -58.7922 |\n",
       "| H       |  -34.9466 |   -58.7837 |\n"
      ],
      "text/plain": [
       "<IPython.core.display.Markdown object>"
      ]
     },
     "execution_count": 22,
     "metadata": {},
     "output_type": "execute_result"
    }
   ],
   "source": [
    "Markdown(mdDirecto.format(tabla=pDirDF.to_markdown()))"
   ]
  },
  {
   "cell_type": "code",
   "execution_count": 23,
   "id": "93819036-8a2c-47d8-8e32-f4102b337338",
   "metadata": {},
   "outputs": [],
   "source": [
    "puntosDF = pd.concat([vectorGNSS.T.rename(columns=COORDRENAMES),pDirDF.astype(float)])"
   ]
  },
  {
   "cell_type": "code",
   "execution_count": 24,
   "id": "wound-tuner",
   "metadata": {
    "lines_to_next_cell": 2
   },
   "outputs": [],
   "source": [
    "proj_form = \"+proj=longlat +ellps=GRS80\"\n",
    "proj_to = \"+proj=tmerc +lat_0=-90 +lon_0=-60 +x_0=5500000 \"\\\n",
    "          + \"+y_0=0 +ellps=GRS80\"\n",
    "\n",
    "inp = '\\n'.join(puntosDF.T.apply(lambda x: '{Latitud} {Longitud}'.format(**x)))\n",
    "\n",
    "coordTM = sp.check_output(['cs2cs', '-r' ,'-t%', '-f','%.3f', \n",
    "                       *proj_form.split(),'+to',\n",
    "                       *proj_to.split(),\n",
    "                       ],input=inp.encode())\\\n",
    "                            .decode().replace('d','°').replace('%','').strip().split('\\n')\n",
    "\n",
    "coordTMDF = pd.DataFrame([i.split() for i in coordTM],\n",
    "                      columns=['Este','Norte','Altura'],\n",
    "                      index=puntosDF.index)\\\n",
    "                          .drop(columns=[\"Altura\"]).astype(float)\n",
    "\n",
    "\n",
    "#Encabezado\n",
    "#!echo Este,Norte,Z\n",
    "#Problema geodesico inverso\n",
    "#!cs2cs -r -t% -f \"%.3f\" {proj_from} +to {proj_to} << EOF | tr '\\t ' ',' {inp}"
   ]
  },
  {
   "cell_type": "code",
   "execution_count": 50,
   "id": "b77bb203-f264-4dc0-b1db-67174e5a74f3",
   "metadata": {},
   "outputs": [],
   "source": [
    "mdCierre = \"\"\"\n",
    "# Resumen de coordenadas y Croquis.\n",
    "\n",
    "Las coordenadas POSGAR07 quedan expresadas entonces segun la tabla a continuación\n",
    "tanto en latitud y longitud como en sistema plano Gauss Krugger.\n",
    "\n",
    "{tabla}\n",
    "\"\"\""
   ]
  },
  {
   "cell_type": "code",
   "execution_count": 51,
   "id": "5e47bea9-5ff8-439a-b4c5-69789314a3a5",
   "metadata": {},
   "outputs": [
    {
     "data": {
      "text/markdown": [
       "\n",
       "# Resumen de coordenadas y Croquis.\n",
       "\n",
       "Las coordenadas POSGAR07 quedan expresadas entonces segun la tabla a continuación\n",
       "tanto en latitud y longitud como en sistema plano Gauss Krugger.\n",
       "\n",
       "|      | Latitud           | Longitud          |   altura |        Este |       Norte |\n",
       "|:-----|:------------------|:------------------|---------:|------------:|------------:|\n",
       "| IGM1 | 34°34'20.07733\" S | 58°26'21.54958\" O |   50.694 | 5643215.484 | 6173719.707 |\n",
       "| PFD1 | 34°57'14.94247\" S | 58°47'31.88255\" O |   36.222 | 5610323.099 | 6131793.095 |\n",
       "| PFD2 | 34°56'45.40044\" S | 58°46'58.71314\" O |   40.217 | 5611175.818 | 6132693.346 |\n",
       "| I    | 34°57'15.30270\" S | 58°47'31.78634\" O |       | 5610325.406 | 6131781.964 |\n",
       "| H    | 34°56'47.80045\" S | 58°47'1.36837\" O  |       | 5611107.538 | 6132620.199 |\n"
      ],
      "text/plain": [
       "<IPython.core.display.Markdown object>"
      ]
     },
     "execution_count": 51,
     "metadata": {},
     "output_type": "execute_result"
    }
   ],
   "source": [
    "param = {\n",
    "    'tabla':formatcoords(puntosDF.join(coordTMDF)).to_markdown(floatfmt='.3f').replace('nan','')\n",
    "}\n",
    "\n",
    "Markdown(mdCierre.format(**param))"
   ]
  },
  {
   "cell_type": "code",
   "execution_count": 57,
   "id": "1494eabc-b085-4b47-8b74-486aba0cc620",
   "metadata": {},
   "outputs": [
    {
     "data": {
      "image/png": "[encoded data removed]",
      "text/plain": [
       "<Figure size 864x504 with 2 Axes>"
      ]
     },
     "metadata": {
      "needs_background": "light"
     },
     "output_type": "display_data"
    }
   ],
   "source": [
    "import matplotlib.pyplot as plt\n",
    "\n",
    "fig,((ax1,ax2))=plt.subplots(1,2,figsize=(12,7))\n",
    "\n",
    "ax1.ticklabel_format(useOffset=False, style='plain')\n",
    "ax2.ticklabel_format(useOffset=False, style='plain')\n",
    "\n",
    "ax1.plot(coordTMDF.Este,coordTMDF.Norte,'o--')\n",
    "ax1.set_aspect('equal')\n",
    "ax2.plot(coordTMDF.Este[1:],coordTMDF.Norte[1:],'o--')\n",
    "ax2.set_aspect('equal')\n",
    "\n",
    "xlim = ax2.get_xlim()\n",
    "\n",
    "xrange = xlim[1]-xlim[0]\n",
    "xmean = (xlim[1]+xlim[0])/2\n",
    "\n",
    "ylim = ax2.get_ylim()\n",
    "\n",
    "yrange = ylim[1]-ylim[0]\n",
    "ymean = (ylim[1]+ylim[0])/2\n",
    "\n",
    "ax2.plot(coordTMDF.Este[:2],coordTMDF.Norte[:2],'-r')\n",
    "\n",
    "als = ['right','left','left','right']\n",
    "\n",
    "for x,y,s,al in zip(coordTMDF.Este[1:],coordTMDF.Norte[1:],coordTMDF.index[1:],als):\n",
    "    ax2.text(x,y,s,horizontalalignment=al)\n",
    "\n",
    "for x,y,s,al in zip(coordTMDF.Este[:3],coordTMDF.Norte[:3],coordTMDF.index[:3],als[:3]):\n",
    "    ax1.text(x,y,s,horizontalalignment=al)\n",
    "    \n",
    "ax2.set_xlim(xmean-xrange,xmean+xrange)\n",
    "ax2.set_ylim(ymean-yrange,ymean+yrange)\n",
    "\n",
    "new_l = [*map(lambda x: x.set_rotation(45),ax1.get_xticklabels())]\n",
    "new_l = [*map(lambda x: x.set_rotation(45),ax2.get_xticklabels())]\n",
    "\n",
    "ax1.grid('both')\n",
    "ax2.grid('both')\n",
    "\n",
    "fig.show()"
   ]
  },
  {
   "cell_type": "markdown",
   "id": "chemical-seeking",
   "metadata": {},
   "source": []
  },
  {
   "cell_type": "code",
   "execution_count": null,
   "id": "7ea03f9b-f651-4142-9fef-6b2b85601aca",
   "metadata": {},
   "outputs": [],
   "source": []
  }
 ],
 "metadata": {
  "kernelspec": {
   "display_name": "Python 3",
   "language": "python",
   "name": "python3"
  },
  "language_info": {
   "codemirror_mode": {
    "name": "ipython",
    "version": 3
   },
   "file_extension": ".py",
   "mimetype": "text/x-python",
   "name": "python",
   "nbconvert_exporter": "python",
   "pygments_lexer": "ipython3",
   "version": "3.9.2"
  }
 },
 "nbformat": 4,
 "nbformat_minor": 5
}
